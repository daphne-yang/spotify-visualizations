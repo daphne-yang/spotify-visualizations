{
 "metadata": {
  "language_info": {
   "codemirror_mode": {
    "name": "ipython",
    "version": 3
   },
   "file_extension": ".py",
   "mimetype": "text/x-python",
   "name": "python",
   "nbconvert_exporter": "python",
   "pygments_lexer": "ipython3",
   "version": "3.8.2-final"
  },
  "orig_nbformat": 2,
  "kernelspec": {
   "name": "python3",
   "display_name": "Python 3.8.2 64-bit",
   "metadata": {
    "interpreter": {
     "hash": "31f2aee4e71d21fbe5cf8b01ff0e069b9275f58929596ceb00d14d90e3e16cd6"
    }
   }
  }
 },
 "nbformat": 4,
 "nbformat_minor": 2,
 "cells": [
  {
   "source": [
    "# Top Charts Exploratory Data Analysis"
   ],
   "cell_type": "markdown",
   "metadata": {}
  },
  {
   "source": [
    "## Loading Dependencies"
   ],
   "cell_type": "markdown",
   "metadata": {}
  },
  {
   "cell_type": "code",
   "execution_count": 36,
   "metadata": {},
   "outputs": [],
   "source": [
    "import pandas as pd\n",
    "from collections import Counter\n",
    "import altair as alt\n",
    "import nltk\n",
    "import regex as re"
   ]
  },
  {
   "source": [
    "## Loading in Data"
   ],
   "cell_type": "markdown",
   "metadata": {}
  },
  {
   "cell_type": "code",
   "execution_count": 2,
   "metadata": {},
   "outputs": [
    {
     "output_type": "execute_result",
     "data": {
      "text/plain": [
       "                     artist  \\\n",
       "0     The Weeknd, Daft Punk   \n",
       "1  The Chainsmokers, Halsey   \n",
       "2              Clean Bandit   \n",
       "3   DJ Snake, Justin Bieber   \n",
       "4        ZAYN, Taylor Swift   \n",
       "\n",
       "                                               track     genius_artist  \\\n",
       "0                                            Starboy        The weeknd   \n",
       "1                                             Closer  The chainsmokers   \n",
       "2            Rockabye (feat. Sean Paul & Anne-Marie)      Clean bandit   \n",
       "3                                    Let Me Love You          Dj snake   \n",
       "4  I Don’t Wanna Live Forever (Fifty Shades Darke...              Zayn   \n",
       "\n",
       "                genius_track  \\\n",
       "0                    Starboy   \n",
       "1                     Closer   \n",
       "2                   Rockabye   \n",
       "3            Let me love you   \n",
       "4  I dont wanna live forever   \n",
       "\n",
       "                                              lyrics     genre  \n",
       "0     I'm tryna put you in the worst mood, ah P1 ...  r-b, pop  \n",
       "1     Hey, I was doing just fine before I met you...       pop  \n",
       "2     Call it love and devotion Call it a mom's a...       pop  \n",
       "3     I used to believe We were burnin' on the ed...       pop  \n",
       "4     Been sitting eyes wide open behind these fo...  r-b, pop  "
      ],
      "text/html": "<div>\n<style scoped>\n    .dataframe tbody tr th:only-of-type {\n        vertical-align: middle;\n    }\n\n    .dataframe tbody tr th {\n        vertical-align: top;\n    }\n\n    .dataframe thead th {\n        text-align: right;\n    }\n</style>\n<table border=\"1\" class=\"dataframe\">\n  <thead>\n    <tr style=\"text-align: right;\">\n      <th></th>\n      <th>artist</th>\n      <th>track</th>\n      <th>genius_artist</th>\n      <th>genius_track</th>\n      <th>lyrics</th>\n      <th>genre</th>\n    </tr>\n  </thead>\n  <tbody>\n    <tr>\n      <th>0</th>\n      <td>The Weeknd, Daft Punk</td>\n      <td>Starboy</td>\n      <td>The weeknd</td>\n      <td>Starboy</td>\n      <td>I'm tryna put you in the worst mood, ah P1 ...</td>\n      <td>r-b, pop</td>\n    </tr>\n    <tr>\n      <th>1</th>\n      <td>The Chainsmokers, Halsey</td>\n      <td>Closer</td>\n      <td>The chainsmokers</td>\n      <td>Closer</td>\n      <td>Hey, I was doing just fine before I met you...</td>\n      <td>pop</td>\n    </tr>\n    <tr>\n      <th>2</th>\n      <td>Clean Bandit</td>\n      <td>Rockabye (feat. Sean Paul &amp; Anne-Marie)</td>\n      <td>Clean bandit</td>\n      <td>Rockabye</td>\n      <td>Call it love and devotion Call it a mom's a...</td>\n      <td>pop</td>\n    </tr>\n    <tr>\n      <th>3</th>\n      <td>DJ Snake, Justin Bieber</td>\n      <td>Let Me Love You</td>\n      <td>Dj snake</td>\n      <td>Let me love you</td>\n      <td>I used to believe We were burnin' on the ed...</td>\n      <td>pop</td>\n    </tr>\n    <tr>\n      <th>4</th>\n      <td>ZAYN, Taylor Swift</td>\n      <td>I Don’t Wanna Live Forever (Fifty Shades Darke...</td>\n      <td>Zayn</td>\n      <td>I dont wanna live forever</td>\n      <td>Been sitting eyes wide open behind these fo...</td>\n      <td>r-b, pop</td>\n    </tr>\n  </tbody>\n</table>\n</div>"
     },
     "metadata": {},
     "execution_count": 2
    }
   ],
   "source": [
    "df = pd.read_csv('cleaned_data/all_top_songs_with_genres_nolist.csv')\n",
    "# preview of dataframe\n",
    "df.head()"
   ]
  },
  {
   "source": [
    "## Cleaning Up List of Genres"
   ],
   "cell_type": "markdown",
   "metadata": {}
  },
  {
   "cell_type": "code",
   "execution_count": 3,
   "metadata": {},
   "outputs": [],
   "source": [
    "# cleaning up the genres column on copy of dataframe\n",
    "df_ = df.copy()\n",
    "df_['genre'] = df_['genre'].str.split(\", \")\n"
   ]
  },
  {
   "cell_type": "code",
   "execution_count": 4,
   "metadata": {},
   "outputs": [],
   "source": [
    "# add all values to a list to generate a unique list of values\n",
    "genres_list = []\n",
    "for idx, value in enumerate(df_['genre']):\n",
    "    genres_list.extend(value)"
   ]
  },
  {
   "source": [
    "### Adding in Columns for genres"
   ],
   "cell_type": "markdown",
   "metadata": {}
  },
  {
   "cell_type": "code",
   "execution_count": 5,
   "metadata": {},
   "outputs": [],
   "source": [
    "df_['pop'] = df.genre.str.contains('pop')==True\n",
    "df_['rb'] = df.genre.str.contains('r-b')==True\n",
    "df_['rap'] = df.genre.str.contains('rap')==True\n",
    "df_['rock'] = df.genre.str.contains('rock')==True\n",
    "df_['non-music'] = df.genre.str.contains('non-music')==True\n",
    "df_['country'] = df.genre.str.contains('country')==True\n",
    "df_['no_genre'] = df.genre.str.contains('m')==True"
   ]
  },
  {
   "cell_type": "code",
   "execution_count": 6,
   "metadata": {},
   "outputs": [
    {
     "output_type": "execute_result",
     "data": {
      "text/plain": [
       "                     artist  \\\n",
       "0     The Weeknd, Daft Punk   \n",
       "1  The Chainsmokers, Halsey   \n",
       "2              Clean Bandit   \n",
       "3   DJ Snake, Justin Bieber   \n",
       "4        ZAYN, Taylor Swift   \n",
       "\n",
       "                                               track     genius_artist  \\\n",
       "0                                            Starboy        The weeknd   \n",
       "1                                             Closer  The chainsmokers   \n",
       "2            Rockabye (feat. Sean Paul & Anne-Marie)      Clean bandit   \n",
       "3                                    Let Me Love You          Dj snake   \n",
       "4  I Don’t Wanna Live Forever (Fifty Shades Darke...              Zayn   \n",
       "\n",
       "                genius_track  \\\n",
       "0                    Starboy   \n",
       "1                     Closer   \n",
       "2                   Rockabye   \n",
       "3            Let me love you   \n",
       "4  I dont wanna live forever   \n",
       "\n",
       "                                              lyrics       genre  pop  rb  \\\n",
       "0     I'm tryna put you in the worst mood, ah P1 ...  [r-b, pop]    1   1   \n",
       "1     Hey, I was doing just fine before I met you...       [pop]    1   0   \n",
       "2     Call it love and devotion Call it a mom's a...       [pop]    1   0   \n",
       "3     I used to believe We were burnin' on the ed...       [pop]    1   0   \n",
       "4     Been sitting eyes wide open behind these fo...  [r-b, pop]    1   1   \n",
       "\n",
       "   rap  rock  non-music  country  no_genre  \n",
       "0    0     0          0        0         0  \n",
       "1    0     0          0        0         0  \n",
       "2    0     0          0        0         0  \n",
       "3    0     0          0        0         0  \n",
       "4    0     0          0        0         0  "
      ],
      "text/html": "<div>\n<style scoped>\n    .dataframe tbody tr th:only-of-type {\n        vertical-align: middle;\n    }\n\n    .dataframe tbody tr th {\n        vertical-align: top;\n    }\n\n    .dataframe thead th {\n        text-align: right;\n    }\n</style>\n<table border=\"1\" class=\"dataframe\">\n  <thead>\n    <tr style=\"text-align: right;\">\n      <th></th>\n      <th>artist</th>\n      <th>track</th>\n      <th>genius_artist</th>\n      <th>genius_track</th>\n      <th>lyrics</th>\n      <th>genre</th>\n      <th>pop</th>\n      <th>rb</th>\n      <th>rap</th>\n      <th>rock</th>\n      <th>non-music</th>\n      <th>country</th>\n      <th>no_genre</th>\n    </tr>\n  </thead>\n  <tbody>\n    <tr>\n      <th>0</th>\n      <td>The Weeknd, Daft Punk</td>\n      <td>Starboy</td>\n      <td>The weeknd</td>\n      <td>Starboy</td>\n      <td>I'm tryna put you in the worst mood, ah P1 ...</td>\n      <td>[r-b, pop]</td>\n      <td>1</td>\n      <td>1</td>\n      <td>0</td>\n      <td>0</td>\n      <td>0</td>\n      <td>0</td>\n      <td>0</td>\n    </tr>\n    <tr>\n      <th>1</th>\n      <td>The Chainsmokers, Halsey</td>\n      <td>Closer</td>\n      <td>The chainsmokers</td>\n      <td>Closer</td>\n      <td>Hey, I was doing just fine before I met you...</td>\n      <td>[pop]</td>\n      <td>1</td>\n      <td>0</td>\n      <td>0</td>\n      <td>0</td>\n      <td>0</td>\n      <td>0</td>\n      <td>0</td>\n    </tr>\n    <tr>\n      <th>2</th>\n      <td>Clean Bandit</td>\n      <td>Rockabye (feat. Sean Paul &amp; Anne-Marie)</td>\n      <td>Clean bandit</td>\n      <td>Rockabye</td>\n      <td>Call it love and devotion Call it a mom's a...</td>\n      <td>[pop]</td>\n      <td>1</td>\n      <td>0</td>\n      <td>0</td>\n      <td>0</td>\n      <td>0</td>\n      <td>0</td>\n      <td>0</td>\n    </tr>\n    <tr>\n      <th>3</th>\n      <td>DJ Snake, Justin Bieber</td>\n      <td>Let Me Love You</td>\n      <td>Dj snake</td>\n      <td>Let me love you</td>\n      <td>I used to believe We were burnin' on the ed...</td>\n      <td>[pop]</td>\n      <td>1</td>\n      <td>0</td>\n      <td>0</td>\n      <td>0</td>\n      <td>0</td>\n      <td>0</td>\n      <td>0</td>\n    </tr>\n    <tr>\n      <th>4</th>\n      <td>ZAYN, Taylor Swift</td>\n      <td>I Don’t Wanna Live Forever (Fifty Shades Darke...</td>\n      <td>Zayn</td>\n      <td>I dont wanna live forever</td>\n      <td>Been sitting eyes wide open behind these fo...</td>\n      <td>[r-b, pop]</td>\n      <td>1</td>\n      <td>1</td>\n      <td>0</td>\n      <td>0</td>\n      <td>0</td>\n      <td>0</td>\n      <td>0</td>\n    </tr>\n  </tbody>\n</table>\n</div>"
     },
     "metadata": {},
     "execution_count": 6
    }
   ],
   "source": [
    "df_['pop'] = df_['pop'].astype(int)\n",
    "df_['rb'] = df_['rb'].astype(int)\n",
    "df_['rap'] = df_['rap'].astype(int)\n",
    "df_['rock'] = df_['rock'].astype(int)\n",
    "df_['non-music'] = df_['non-music'].astype(int)\n",
    "df_['country'] = df_['country'].astype(int)\n",
    "df_['no_genre'] = df_['no_genre'].astype(int)\n",
    "df_.head()"
   ]
  },
  {
   "cell_type": "code",
   "execution_count": 7,
   "metadata": {},
   "outputs": [],
   "source": [
    "### Saving to CSV\n",
    "df_.to_csv('cleaned_data/OHE_all_top_songs.csv', index=False)"
   ]
  },
  {
   "cell_type": "code",
   "execution_count": 8,
   "metadata": {},
   "outputs": [
    {
     "output_type": "execute_result",
     "data": {
      "text/plain": [
       "202         Don Omar, Zion & Lennox\n",
       "586                    Lil Uzi Vert\n",
       "591                    Lil Uzi Vert\n",
       "614     G-Eazy, A$AP Rocky, Cardi B\n",
       "700                          Eminem\n",
       "750                          Eminem\n",
       "758                          Eminem\n",
       "763                          Eminem\n",
       "767                          Eminem\n",
       "769            G-Eazy, Charlie Puth\n",
       "770                          Eminem\n",
       "771                          Eminem\n",
       "773                          Eminem\n",
       "775                          Eminem\n",
       "777                          Eminem\n",
       "810                    Travis Scott\n",
       "829                      Juice WRLD\n",
       "1016                     Juice WRLD\n",
       "1060                     Juice WRLD\n",
       "1061                     Juice WRLD\n",
       "1574                   Taylor Swift\n",
       "1858                     Kanye West\n",
       "2021                   Travis Scott\n",
       "2093                         Eminem\n",
       "2260                    Don Toliver\n",
       "2312                         Eminem\n",
       "2317                         Eminem\n",
       "2466                    Don Toliver\n",
       "2556                   Lil Uzi Vert\n",
       "2719                     Juice WRLD\n",
       "2776                     Juice WRLD\n",
       "3099                         Eminem\n",
       "3157                   Taylor Swift\n",
       "3298                 Paul Rosenberg\n",
       "3371                  The Kid LAROI\n",
       "Name: artist, dtype: object"
      ]
     },
     "metadata": {},
     "execution_count": 8
    }
   ],
   "source": [
    "df_[df_['non-music'] == 1]['artist']"
   ]
  },
  {
   "cell_type": "code",
   "execution_count": 9,
   "metadata": {},
   "outputs": [],
   "source": [
    "# drop non-music and bc they are all either having another genre or missing a genre\n",
    "df_ = df_.drop(columns=['non-music'])"
   ]
  },
  {
   "cell_type": "code",
   "execution_count": 10,
   "metadata": {},
   "outputs": [],
   "source": [
    "missing_genres = []\n",
    "for i in range(len(df_.artist)):\n",
    "    if sum(df_.iloc[i,6:11]) > 0:\n",
    "        item = 0\n",
    "        missing_genres.append(item)\n",
    "    else:\n",
    "        item = 1\n",
    "        missing_genres.append(item)"
   ]
  },
  {
   "cell_type": "code",
   "execution_count": 11,
   "metadata": {},
   "outputs": [],
   "source": [
    "df_['no_genre'] = missing_genres"
   ]
  },
  {
   "source": [
    "## Visualizations"
   ],
   "cell_type": "markdown",
   "metadata": {}
  },
  {
   "cell_type": "code",
   "execution_count": 12,
   "metadata": {},
   "outputs": [
    {
     "output_type": "execute_result",
     "data": {
      "text/plain": [
       "{'r-b': 520,\n",
       " 'pop': 1912,\n",
       " 'rap': 1463,\n",
       " 'rock': 225,\n",
       " 'non-music': 35,\n",
       " 'country': 42,\n",
       " 'm': 148}"
      ]
     },
     "metadata": {},
     "execution_count": 12
    }
   ],
   "source": [
    "genre_frequencies = dict(Counter(genres_list))\n",
    "\n",
    "genre_frequencies_df = pd.DataFrame.from_records([genre_frequencies])\n",
    "genre_frequencies_df = genre_frequencies_df.rename(index={0:'counts'}).T.reset_index().rename(columns={'index':'genres'})\n",
    "genre_frequencies"
   ]
  },
  {
   "cell_type": "code",
   "execution_count": 13,
   "metadata": {},
   "outputs": [
    {
     "output_type": "execute_result",
     "data": {
      "text/html": "\n<div id=\"altair-viz-3c5fec555f6b44d3bea099acc39c820e\"></div>\n<script type=\"text/javascript\">\n  (function(spec, embedOpt){\n    let outputDiv = document.currentScript.previousElementSibling;\n    if (outputDiv.id !== \"altair-viz-3c5fec555f6b44d3bea099acc39c820e\") {\n      outputDiv = document.getElementById(\"altair-viz-3c5fec555f6b44d3bea099acc39c820e\");\n    }\n    const paths = {\n      \"vega\": \"https://cdn.jsdelivr.net/npm//vega@5?noext\",\n      \"vega-lib\": \"https://cdn.jsdelivr.net/npm//vega-lib?noext\",\n      \"vega-lite\": \"https://cdn.jsdelivr.net/npm//vega-lite@4.8.1?noext\",\n      \"vega-embed\": \"https://cdn.jsdelivr.net/npm//vega-embed@6?noext\",\n    };\n\n    function loadScript(lib) {\n      return new Promise(function(resolve, reject) {\n        var s = document.createElement('script');\n        s.src = paths[lib];\n        s.async = true;\n        s.onload = () => resolve(paths[lib]);\n        s.onerror = () => reject(`Error loading script: ${paths[lib]}`);\n        document.getElementsByTagName(\"head\")[0].appendChild(s);\n      });\n    }\n\n    function showError(err) {\n      outputDiv.innerHTML = `<div class=\"error\" style=\"color:red;\">${err}</div>`;\n      throw err;\n    }\n\n    function displayChart(vegaEmbed) {\n      vegaEmbed(outputDiv, spec, embedOpt)\n        .catch(err => showError(`Javascript Error: ${err.message}<br>This usually means there's a typo in your chart specification. See the javascript console for the full traceback.`));\n    }\n\n    if(typeof define === \"function\" && define.amd) {\n      requirejs.config({paths});\n      require([\"vega-embed\"], displayChart, err => showError(`Error loading script: ${err.message}`));\n    } else if (typeof vegaEmbed === \"function\") {\n      displayChart(vegaEmbed);\n    } else {\n      loadScript(\"vega\")\n        .then(() => loadScript(\"vega-lite\"))\n        .then(() => loadScript(\"vega-embed\"))\n        .catch(showError)\n        .then(() => displayChart(vegaEmbed));\n    }\n  })({\"config\": {\"view\": {\"continuousWidth\": 400, \"continuousHeight\": 300}, \"range\": {\"category\": {\"scheme\": \"tableau10\"}}}, \"layer\": [{\"mark\": \"bar\", \"encoding\": {\"color\": {\"type\": \"nominal\", \"field\": \"genres\"}, \"x\": {\"type\": \"nominal\", \"field\": \"genres\"}, \"y\": {\"type\": \"quantitative\", \"field\": \"counts\"}}}, {\"mark\": {\"type\": \"text\", \"align\": \"center\", \"dy\": -10}, \"encoding\": {\"color\": {\"type\": \"nominal\", \"field\": \"genres\"}, \"text\": {\"type\": \"quantitative\", \"field\": \"counts\"}, \"x\": {\"type\": \"nominal\", \"field\": \"genres\"}, \"y\": {\"type\": \"quantitative\", \"field\": \"counts\"}}}], \"data\": {\"name\": \"data-7f783ee5fed24af1acaa2579684ad91d\"}, \"height\": 500, \"title\": \"Frequency of Genres on Top 200 Charts\", \"width\": 400, \"$schema\": \"https://vega.github.io/schema/vega-lite/v4.8.1.json\", \"datasets\": {\"data-7f783ee5fed24af1acaa2579684ad91d\": [{\"genres\": \"r-b\", \"counts\": 520}, {\"genres\": \"pop\", \"counts\": 1912}, {\"genres\": \"rap\", \"counts\": 1463}, {\"genres\": \"rock\", \"counts\": 225}, {\"genres\": \"non-music\", \"counts\": 35}, {\"genres\": \"country\", \"counts\": 42}, {\"genres\": \"m\", \"counts\": 148}]}}, {\"mode\": \"vega-lite\"});\n</script>",
      "text/plain": [
       "alt.LayerChart(...)"
      ]
     },
     "metadata": {},
     "execution_count": 13
    }
   ],
   "source": [
    "bars = alt.Chart(data=genre_frequencies_df).mark_bar().encode(\n",
    "x= 'genres',\n",
    "y = 'counts',\n",
    "color = 'genres'\n",
    ")\n",
    "text = bars.mark_text(\n",
    "    align='center',\n",
    "    # baseline='top',\n",
    "    dy=-10 \n",
    ").encode(\n",
    "    text='counts:Q',\n",
    ")\n",
    "\n",
    "(bars + text).properties(height=500, width = 400,title = \"Frequency of Genres on Top 200 Charts\").configure_range(\n",
    "    category={'scheme': 'tableau10'}\n",
    ")"
   ]
  },
  {
   "source": [
    "There seem to be data that is labeled as non-music which is strange because there shouldn't be any labeled non-music. If there is another genre listed, remove non-music"
   ],
   "cell_type": "markdown",
   "metadata": {}
  },
  {
   "source": [
    "# Keyword Extraction"
   ],
   "cell_type": "markdown",
   "metadata": {}
  },
  {
   "cell_type": "code",
   "execution_count": 22,
   "metadata": {},
   "outputs": [],
   "source": [
    "### Importing More Dependencies\n",
    "from resources.word_extraction.text_cleaning import lem_stem_text\n",
    "from resources.word_extraction.stopwords import remove_stopw, get_stopwords\n",
    "from resources.analyze import find_keywords, find_instances"
   ]
  },
  {
   "cell_type": "code",
   "execution_count": 24,
   "metadata": {},
   "outputs": [
    {
     "output_type": "stream",
     "name": "stderr",
     "text": [
      "/Users/daphneyang/Desktop/5YMIDS_SP21/w209/spotify-visualizations/resources/analyze.py:94: SettingWithCopyWarning: \nA value is trying to be set on a copy of a slice from a DataFrame.\nTry using .loc[row_indexer,col_indexer] = value instead\n\nSee the caveats in the documentation: https://pandas.pydata.org/pandas-docs/stable/user_guide/indexing.html#returning-a-view-versus-a-copy\n  unigram_df['associated_phrases'] = unigram_df['word'].apply(word_in_list, args=(keywords,))\n"
     ]
    },
    {
     "output_type": "display_data",
     "data": {
      "text/plain": "  0%|          | 0/18 [00:00<?, ?it/s]",
      "application/vnd.jupyter.widget-view+json": {
       "version_major": 2,
       "version_minor": 0,
       "model_id": "6b7ac5d3c22d43a59f0dd17de658008a"
      }
     },
     "metadata": {}
    },
    {
     "output_type": "execute_result",
     "data": {
      "text/plain": [
       "      word                                 associated_phrases  \\\n",
       "3     yeah  [yeah yeah yeah, fuck yeah yeah, baby baby yea...   \n",
       "10    baby  [baby baby yeah, yeah baby, bad bitch baby, ba...   \n",
       "23    love  [love hey yeah, love ooh ooh, baby i'ma love, ...   \n",
       "52    fuck  [fuck yeah yeah, yeah i'ma fuck, bitch wanna f...   \n",
       "57   nigga  [yeah niggas wanna, yeah ayy niggas, nigga fuc...   \n",
       "58   bitch  [bad bitch baby, bitch wanna fuck, yeah bad bi...   \n",
       "72    make  [wanna make love, yeah make love, i'ma make, n...   \n",
       "79     ooh  [love ooh ooh, yeah ooh, ooh ooh yeah, christm...   \n",
       "81    back  [back high bitch, bitch back yeah, walk back y...   \n",
       "82   wanna  [bitch wanna fuck, yeah niggas wanna, wanna ma...   \n",
       "86    i'ma  [yeah i'ma fuck, baby i'ma love, life i'ma fuc...   \n",
       "96     ich                                 [und ich, ich bin]   \n",
       "107   time  [time baby girl, time time yeah, christmas tim...   \n",
       "111   girl  [baby girl, ayy baby girl, girl wanna fuck, lo...   \n",
       "122   feel  [yeah yeah feelings, ayy yeah feel, wanna feel...   \n",
       "142   pero                                        [pero baby]   \n",
       "144    put                                   [yeah cardi put]   \n",
       "147   shit                   [shit baby girl, shit i'ma show]   \n",
       "\n",
       "                                     context_fragments  \n",
       "3    [...do what I got to do.\", yeah So, rockabye, ...  \n",
       "10                                                  []  \n",
       "23   [...it with her face, man, I love my baby, ah ...  \n",
       "52                                                  []  \n",
       "57   [...a motherfuckin' starboy Every day, a nigga...  \n",
       "58   [...in a week too, yah Main bitch out of your ...  \n",
       "72   [...frustration Clean Bandit, Sean-da-Paul, An...  \n",
       "79   [...they be like Ooh, so player ooh Everywhere...  \n",
       "81   [...that you stole From your roommate back in ...  \n",
       "82   [...is happening to me? I don't wanna live for...  \n",
       "86                                                      \n",
       "96                                                  []  \n",
       "107  [...So your non-stop, no time, no time for ya ...  \n",
       "111       [...said you didn't need 'em That girl i...]  \n",
       "122  [...hoping at all Baby, baby, I feel crazy Up ...  \n",
       "142  [...con quien quisiste Y quieres volver, pero ...  \n",
       "144  [......, ...set this party off right Players, ...  \n",
       "147  [...get to run me Just when shit look out of r...  "
      ],
      "text/html": "<div>\n<style scoped>\n    .dataframe tbody tr th:only-of-type {\n        vertical-align: middle;\n    }\n\n    .dataframe tbody tr th {\n        vertical-align: top;\n    }\n\n    .dataframe thead th {\n        text-align: right;\n    }\n</style>\n<table border=\"1\" class=\"dataframe\">\n  <thead>\n    <tr style=\"text-align: right;\">\n      <th></th>\n      <th>word</th>\n      <th>associated_phrases</th>\n      <th>context_fragments</th>\n    </tr>\n  </thead>\n  <tbody>\n    <tr>\n      <th>3</th>\n      <td>yeah</td>\n      <td>[yeah yeah yeah, fuck yeah yeah, baby baby yea...</td>\n      <td>[...do what I got to do.\", yeah So, rockabye, ...</td>\n    </tr>\n    <tr>\n      <th>10</th>\n      <td>baby</td>\n      <td>[baby baby yeah, yeah baby, bad bitch baby, ba...</td>\n      <td>[]</td>\n    </tr>\n    <tr>\n      <th>23</th>\n      <td>love</td>\n      <td>[love hey yeah, love ooh ooh, baby i'ma love, ...</td>\n      <td>[...it with her face, man, I love my baby, ah ...</td>\n    </tr>\n    <tr>\n      <th>52</th>\n      <td>fuck</td>\n      <td>[fuck yeah yeah, yeah i'ma fuck, bitch wanna f...</td>\n      <td>[]</td>\n    </tr>\n    <tr>\n      <th>57</th>\n      <td>nigga</td>\n      <td>[yeah niggas wanna, yeah ayy niggas, nigga fuc...</td>\n      <td>[...a motherfuckin' starboy Every day, a nigga...</td>\n    </tr>\n    <tr>\n      <th>58</th>\n      <td>bitch</td>\n      <td>[bad bitch baby, bitch wanna fuck, yeah bad bi...</td>\n      <td>[...in a week too, yah Main bitch out of your ...</td>\n    </tr>\n    <tr>\n      <th>72</th>\n      <td>make</td>\n      <td>[wanna make love, yeah make love, i'ma make, n...</td>\n      <td>[...frustration Clean Bandit, Sean-da-Paul, An...</td>\n    </tr>\n    <tr>\n      <th>79</th>\n      <td>ooh</td>\n      <td>[love ooh ooh, yeah ooh, ooh ooh yeah, christm...</td>\n      <td>[...they be like Ooh, so player ooh Everywhere...</td>\n    </tr>\n    <tr>\n      <th>81</th>\n      <td>back</td>\n      <td>[back high bitch, bitch back yeah, walk back y...</td>\n      <td>[...that you stole From your roommate back in ...</td>\n    </tr>\n    <tr>\n      <th>82</th>\n      <td>wanna</td>\n      <td>[bitch wanna fuck, yeah niggas wanna, wanna ma...</td>\n      <td>[...is happening to me? I don't wanna live for...</td>\n    </tr>\n    <tr>\n      <th>86</th>\n      <td>i'ma</td>\n      <td>[yeah i'ma fuck, baby i'ma love, life i'ma fuc...</td>\n      <td></td>\n    </tr>\n    <tr>\n      <th>96</th>\n      <td>ich</td>\n      <td>[und ich, ich bin]</td>\n      <td>[]</td>\n    </tr>\n    <tr>\n      <th>107</th>\n      <td>time</td>\n      <td>[time baby girl, time time yeah, christmas tim...</td>\n      <td>[...So your non-stop, no time, no time for ya ...</td>\n    </tr>\n    <tr>\n      <th>111</th>\n      <td>girl</td>\n      <td>[baby girl, ayy baby girl, girl wanna fuck, lo...</td>\n      <td>[...said you didn't need 'em That girl i...]</td>\n    </tr>\n    <tr>\n      <th>122</th>\n      <td>feel</td>\n      <td>[yeah yeah feelings, ayy yeah feel, wanna feel...</td>\n      <td>[...hoping at all Baby, baby, I feel crazy Up ...</td>\n    </tr>\n    <tr>\n      <th>142</th>\n      <td>pero</td>\n      <td>[pero baby]</td>\n      <td>[...con quien quisiste Y quieres volver, pero ...</td>\n    </tr>\n    <tr>\n      <th>144</th>\n      <td>put</td>\n      <td>[yeah cardi put]</td>\n      <td>[......, ...set this party off right Players, ...</td>\n    </tr>\n    <tr>\n      <th>147</th>\n      <td>shit</td>\n      <td>[shit baby girl, shit i'ma show]</td>\n      <td>[...get to run me Just when shit look out of r...</td>\n    </tr>\n  </tbody>\n</table>\n</div>"
     },
     "metadata": {},
     "execution_count": 24
    }
   ],
   "source": [
    "responses = list(df_['lyrics'])\n",
    "concat_response = \" \".join(df_[\"lyrics\"].to_list())\n",
    "keywords_df = find_keywords(concat_response)\n",
    "responses_w_stopwords = \" \".join(df_['lyrics'].to_list())\n",
    "keywords_df['context_fragments'] = keywords_df['word'].progress_apply(find_instances, unaltered_string_list=responses_w_stopwords)\n",
    "keywords_df"
   ]
  },
  {
   "cell_type": "code",
   "execution_count": 15,
   "metadata": {},
   "outputs": [
    {
     "output_type": "execute_result",
     "data": {
      "text/plain": [
       "                     artist  \\\n",
       "0     The Weeknd, Daft Punk   \n",
       "1  The Chainsmokers, Halsey   \n",
       "2              Clean Bandit   \n",
       "3   DJ Snake, Justin Bieber   \n",
       "4        ZAYN, Taylor Swift   \n",
       "\n",
       "                                               track     genius_artist  \\\n",
       "0                                            Starboy        The weeknd   \n",
       "1                                             Closer  The chainsmokers   \n",
       "2            Rockabye (feat. Sean Paul & Anne-Marie)      Clean bandit   \n",
       "3                                    Let Me Love You          Dj snake   \n",
       "4  I Don’t Wanna Live Forever (Fifty Shades Darke...              Zayn   \n",
       "\n",
       "                genius_track  \\\n",
       "0                    Starboy   \n",
       "1                     Closer   \n",
       "2                   Rockabye   \n",
       "3            Let me love you   \n",
       "4  I dont wanna live forever   \n",
       "\n",
       "                                              lyrics       genre  pop  rb  \\\n",
       "0     I'm tryna put you in the worst mood, ah P1 ...  [r-b, pop]    1   1   \n",
       "1     Hey, I was doing just fine before I met you...       [pop]    1   0   \n",
       "2     Call it love and devotion Call it a mom's a...       [pop]    1   0   \n",
       "3     I used to believe We were burnin' on the ed...       [pop]    1   0   \n",
       "4     Been sitting eyes wide open behind these fo...  [r-b, pop]    1   1   \n",
       "\n",
       "   rap  rock  country  no_genre  \n",
       "0    0     0        0         0  \n",
       "1    0     0        0         0  \n",
       "2    0     0        0         0  \n",
       "3    0     0        0         0  \n",
       "4    0     0        0         0  "
      ],
      "text/html": "<div>\n<style scoped>\n    .dataframe tbody tr th:only-of-type {\n        vertical-align: middle;\n    }\n\n    .dataframe tbody tr th {\n        vertical-align: top;\n    }\n\n    .dataframe thead th {\n        text-align: right;\n    }\n</style>\n<table border=\"1\" class=\"dataframe\">\n  <thead>\n    <tr style=\"text-align: right;\">\n      <th></th>\n      <th>artist</th>\n      <th>track</th>\n      <th>genius_artist</th>\n      <th>genius_track</th>\n      <th>lyrics</th>\n      <th>genre</th>\n      <th>pop</th>\n      <th>rb</th>\n      <th>rap</th>\n      <th>rock</th>\n      <th>country</th>\n      <th>no_genre</th>\n    </tr>\n  </thead>\n  <tbody>\n    <tr>\n      <th>0</th>\n      <td>The Weeknd, Daft Punk</td>\n      <td>Starboy</td>\n      <td>The weeknd</td>\n      <td>Starboy</td>\n      <td>I'm tryna put you in the worst mood, ah P1 ...</td>\n      <td>[r-b, pop]</td>\n      <td>1</td>\n      <td>1</td>\n      <td>0</td>\n      <td>0</td>\n      <td>0</td>\n      <td>0</td>\n    </tr>\n    <tr>\n      <th>1</th>\n      <td>The Chainsmokers, Halsey</td>\n      <td>Closer</td>\n      <td>The chainsmokers</td>\n      <td>Closer</td>\n      <td>Hey, I was doing just fine before I met you...</td>\n      <td>[pop]</td>\n      <td>1</td>\n      <td>0</td>\n      <td>0</td>\n      <td>0</td>\n      <td>0</td>\n      <td>0</td>\n    </tr>\n    <tr>\n      <th>2</th>\n      <td>Clean Bandit</td>\n      <td>Rockabye (feat. Sean Paul &amp; Anne-Marie)</td>\n      <td>Clean bandit</td>\n      <td>Rockabye</td>\n      <td>Call it love and devotion Call it a mom's a...</td>\n      <td>[pop]</td>\n      <td>1</td>\n      <td>0</td>\n      <td>0</td>\n      <td>0</td>\n      <td>0</td>\n      <td>0</td>\n    </tr>\n    <tr>\n      <th>3</th>\n      <td>DJ Snake, Justin Bieber</td>\n      <td>Let Me Love You</td>\n      <td>Dj snake</td>\n      <td>Let me love you</td>\n      <td>I used to believe We were burnin' on the ed...</td>\n      <td>[pop]</td>\n      <td>1</td>\n      <td>0</td>\n      <td>0</td>\n      <td>0</td>\n      <td>0</td>\n      <td>0</td>\n    </tr>\n    <tr>\n      <th>4</th>\n      <td>ZAYN, Taylor Swift</td>\n      <td>I Don’t Wanna Live Forever (Fifty Shades Darke...</td>\n      <td>Zayn</td>\n      <td>I dont wanna live forever</td>\n      <td>Been sitting eyes wide open behind these fo...</td>\n      <td>[r-b, pop]</td>\n      <td>1</td>\n      <td>1</td>\n      <td>0</td>\n      <td>0</td>\n      <td>0</td>\n      <td>0</td>\n    </tr>\n  </tbody>\n</table>\n</div>"
     },
     "metadata": {},
     "execution_count": 15
    }
   ],
   "source": [
    "df_.head()"
   ]
  },
  {
   "cell_type": "code",
   "execution_count": 16,
   "metadata": {},
   "outputs": [],
   "source": [
    "df_['cleaned_lyrics'] = df_['lyrics'].str.replace('[^\\w\\s]','')\n",
    "df_['cleaned_lyrics'] = df_['cleaned_lyrics'].str.replace('missing lyrics','')\n",
    "df_['cleaned_lyrics'] = df_['cleaned_lyrics'].apply(remove_stopw)\n",
    "df_['cleaned_lyrics'] = df_['cleaned_lyrics'].apply(lem_stem_text)\n",
    "df_['cleaned_lyrics'] = df_.cleaned_lyrics.str.strip().str.split(' ')"
   ]
  },
  {
   "cell_type": "code",
   "execution_count": 17,
   "metadata": {},
   "outputs": [
    {
     "output_type": "execute_result",
     "data": {
      "text/plain": [
       "                        artist  \\\n",
       "0        The Weeknd, Daft Punk   \n",
       "1     The Chainsmokers, Halsey   \n",
       "2                 Clean Bandit   \n",
       "3      DJ Snake, Justin Bieber   \n",
       "4           ZAYN, Taylor Swift   \n",
       "...                        ...   \n",
       "3419             Sfera Ebbasta   \n",
       "3420           Trio Vegabajeño   \n",
       "3421           Camilo, El Alfa   \n",
       "3422              Taylor Swift   \n",
       "3423               Bing Crosby   \n",
       "\n",
       "                                                  track     genius_artist  \\\n",
       "0                                               Starboy        The weeknd   \n",
       "1                                                Closer  The chainsmokers   \n",
       "2               Rockabye (feat. Sean Paul & Anne-Marie)      Clean bandit   \n",
       "3                                       Let Me Love You          Dj snake   \n",
       "4     I Don’t Wanna Live Forever (Fifty Shades Darke...              Zayn   \n",
       "...                                                 ...               ...   \n",
       "3419                            Hollywood (feat. Diplo)     Sfera ebbasta   \n",
       "3420                                CANTARES DE NAVIDAD   Trio vegabajeno   \n",
       "3421                                               BEBÉ            Camilo   \n",
       "3422                                   long story short      Taylor swift   \n",
       "3423         Do You Hear What I Hear? - Remastered 2006       Bing crosby   \n",
       "\n",
       "                   genius_track  \\\n",
       "0                       Starboy   \n",
       "1                        Closer   \n",
       "2                      Rockabye   \n",
       "3               Let me love you   \n",
       "4     I dont wanna live forever   \n",
       "...                         ...   \n",
       "3419                  Hollywood   \n",
       "3420        Cantares de navidad   \n",
       "3421                       Bebe   \n",
       "3422           Long story short   \n",
       "3423    Do you hear what i hear   \n",
       "\n",
       "                                                 lyrics       genre  pop  rb  \\\n",
       "0        I'm tryna put you in the worst mood, ah P1 ...  [r-b, pop]    1   1   \n",
       "1        Hey, I was doing just fine before I met you...       [pop]    1   0   \n",
       "2        Call it love and devotion Call it a mom's a...       [pop]    1   0   \n",
       "3        I used to believe We were burnin' on the ed...       [pop]    1   0   \n",
       "4        Been sitting eyes wide open behind these fo...  [r-b, pop]    1   1   \n",
       "...                                                 ...         ...  ...  ..   \n",
       "3419       La mia ex mi scrive Mi dice che le manco ...       [pop]    1   0   \n",
       "3420       Navidad que vuelve, tradición del año Uno...       [pop]    1   0   \n",
       "3421       Un, dos, tres y   El la'o de tu cama que ...       [pop]    1   0   \n",
       "3422                                     missing lyrics         [m]    0   0   \n",
       "3423    Do you hear what I hear?  Said the night win...       [pop]    1   0   \n",
       "\n",
       "      rap  rock  country  no_genre  \\\n",
       "0       0     0        0         0   \n",
       "1       0     0        0         0   \n",
       "2       0     0        0         0   \n",
       "3       0     0        0         0   \n",
       "4       0     0        0         0   \n",
       "...   ...   ...      ...       ...   \n",
       "3419    0     0        0         0   \n",
       "3420    0     0        0         0   \n",
       "3421    0     0        0         0   \n",
       "3422    0     0        0         1   \n",
       "3423    0     0        0         0   \n",
       "\n",
       "                                         cleaned_lyrics  \n",
       "0     [im, tryna, worst, mood, ah, p1, cleaner, chur...  \n",
       "1     [hey, fine, met, drink, issu, im, hey, friend,...  \n",
       "2     [call, love, devot, call, mom, ador, foundat, ...  \n",
       "3     [burnin, edg, somethin, beauti, somethin, beau...  \n",
       "4     [sit, eye, wide, wall, hope, youd, call, cruel...  \n",
       "...                                                 ...  \n",
       "3419  [scrive, dice, che, manco, da, morir, quando, ...  \n",
       "3420  [navidad, vuelv, tradición, año, van, alegr, v...  \n",
       "3421  [do, tre, lao, cama, calient, está, congelando...  \n",
       "3422                                                 []  \n",
       "3423  [hear, hear, night, wind, lamb, sky, lamb, sta...  \n",
       "\n",
       "[3424 rows x 13 columns]"
      ],
      "text/html": "<div>\n<style scoped>\n    .dataframe tbody tr th:only-of-type {\n        vertical-align: middle;\n    }\n\n    .dataframe tbody tr th {\n        vertical-align: top;\n    }\n\n    .dataframe thead th {\n        text-align: right;\n    }\n</style>\n<table border=\"1\" class=\"dataframe\">\n  <thead>\n    <tr style=\"text-align: right;\">\n      <th></th>\n      <th>artist</th>\n      <th>track</th>\n      <th>genius_artist</th>\n      <th>genius_track</th>\n      <th>lyrics</th>\n      <th>genre</th>\n      <th>pop</th>\n      <th>rb</th>\n      <th>rap</th>\n      <th>rock</th>\n      <th>country</th>\n      <th>no_genre</th>\n      <th>cleaned_lyrics</th>\n    </tr>\n  </thead>\n  <tbody>\n    <tr>\n      <th>0</th>\n      <td>The Weeknd, Daft Punk</td>\n      <td>Starboy</td>\n      <td>The weeknd</td>\n      <td>Starboy</td>\n      <td>I'm tryna put you in the worst mood, ah P1 ...</td>\n      <td>[r-b, pop]</td>\n      <td>1</td>\n      <td>1</td>\n      <td>0</td>\n      <td>0</td>\n      <td>0</td>\n      <td>0</td>\n      <td>[im, tryna, worst, mood, ah, p1, cleaner, chur...</td>\n    </tr>\n    <tr>\n      <th>1</th>\n      <td>The Chainsmokers, Halsey</td>\n      <td>Closer</td>\n      <td>The chainsmokers</td>\n      <td>Closer</td>\n      <td>Hey, I was doing just fine before I met you...</td>\n      <td>[pop]</td>\n      <td>1</td>\n      <td>0</td>\n      <td>0</td>\n      <td>0</td>\n      <td>0</td>\n      <td>0</td>\n      <td>[hey, fine, met, drink, issu, im, hey, friend,...</td>\n    </tr>\n    <tr>\n      <th>2</th>\n      <td>Clean Bandit</td>\n      <td>Rockabye (feat. Sean Paul &amp; Anne-Marie)</td>\n      <td>Clean bandit</td>\n      <td>Rockabye</td>\n      <td>Call it love and devotion Call it a mom's a...</td>\n      <td>[pop]</td>\n      <td>1</td>\n      <td>0</td>\n      <td>0</td>\n      <td>0</td>\n      <td>0</td>\n      <td>0</td>\n      <td>[call, love, devot, call, mom, ador, foundat, ...</td>\n    </tr>\n    <tr>\n      <th>3</th>\n      <td>DJ Snake, Justin Bieber</td>\n      <td>Let Me Love You</td>\n      <td>Dj snake</td>\n      <td>Let me love you</td>\n      <td>I used to believe We were burnin' on the ed...</td>\n      <td>[pop]</td>\n      <td>1</td>\n      <td>0</td>\n      <td>0</td>\n      <td>0</td>\n      <td>0</td>\n      <td>0</td>\n      <td>[burnin, edg, somethin, beauti, somethin, beau...</td>\n    </tr>\n    <tr>\n      <th>4</th>\n      <td>ZAYN, Taylor Swift</td>\n      <td>I Don’t Wanna Live Forever (Fifty Shades Darke...</td>\n      <td>Zayn</td>\n      <td>I dont wanna live forever</td>\n      <td>Been sitting eyes wide open behind these fo...</td>\n      <td>[r-b, pop]</td>\n      <td>1</td>\n      <td>1</td>\n      <td>0</td>\n      <td>0</td>\n      <td>0</td>\n      <td>0</td>\n      <td>[sit, eye, wide, wall, hope, youd, call, cruel...</td>\n    </tr>\n    <tr>\n      <th>...</th>\n      <td>...</td>\n      <td>...</td>\n      <td>...</td>\n      <td>...</td>\n      <td>...</td>\n      <td>...</td>\n      <td>...</td>\n      <td>...</td>\n      <td>...</td>\n      <td>...</td>\n      <td>...</td>\n      <td>...</td>\n      <td>...</td>\n    </tr>\n    <tr>\n      <th>3419</th>\n      <td>Sfera Ebbasta</td>\n      <td>Hollywood (feat. Diplo)</td>\n      <td>Sfera ebbasta</td>\n      <td>Hollywood</td>\n      <td>La mia ex mi scrive Mi dice che le manco ...</td>\n      <td>[pop]</td>\n      <td>1</td>\n      <td>0</td>\n      <td>0</td>\n      <td>0</td>\n      <td>0</td>\n      <td>0</td>\n      <td>[scrive, dice, che, manco, da, morir, quando, ...</td>\n    </tr>\n    <tr>\n      <th>3420</th>\n      <td>Trio Vegabajeño</td>\n      <td>CANTARES DE NAVIDAD</td>\n      <td>Trio vegabajeno</td>\n      <td>Cantares de navidad</td>\n      <td>Navidad que vuelve, tradición del año Uno...</td>\n      <td>[pop]</td>\n      <td>1</td>\n      <td>0</td>\n      <td>0</td>\n      <td>0</td>\n      <td>0</td>\n      <td>0</td>\n      <td>[navidad, vuelv, tradición, año, van, alegr, v...</td>\n    </tr>\n    <tr>\n      <th>3421</th>\n      <td>Camilo, El Alfa</td>\n      <td>BEBÉ</td>\n      <td>Camilo</td>\n      <td>Bebe</td>\n      <td>Un, dos, tres y   El la'o de tu cama que ...</td>\n      <td>[pop]</td>\n      <td>1</td>\n      <td>0</td>\n      <td>0</td>\n      <td>0</td>\n      <td>0</td>\n      <td>0</td>\n      <td>[do, tre, lao, cama, calient, está, congelando...</td>\n    </tr>\n    <tr>\n      <th>3422</th>\n      <td>Taylor Swift</td>\n      <td>long story short</td>\n      <td>Taylor swift</td>\n      <td>Long story short</td>\n      <td>missing lyrics</td>\n      <td>[m]</td>\n      <td>0</td>\n      <td>0</td>\n      <td>0</td>\n      <td>0</td>\n      <td>0</td>\n      <td>1</td>\n      <td>[]</td>\n    </tr>\n    <tr>\n      <th>3423</th>\n      <td>Bing Crosby</td>\n      <td>Do You Hear What I Hear? - Remastered 2006</td>\n      <td>Bing crosby</td>\n      <td>Do you hear what i hear</td>\n      <td>Do you hear what I hear?  Said the night win...</td>\n      <td>[pop]</td>\n      <td>1</td>\n      <td>0</td>\n      <td>0</td>\n      <td>0</td>\n      <td>0</td>\n      <td>0</td>\n      <td>[hear, hear, night, wind, lamb, sky, lamb, sta...</td>\n    </tr>\n  </tbody>\n</table>\n<p>3424 rows × 13 columns</p>\n</div>"
     },
     "metadata": {},
     "execution_count": 17
    }
   ],
   "source": [
    "df_"
   ]
  },
  {
   "cell_type": "code",
   "execution_count": 18,
   "metadata": {},
   "outputs": [
    {
     "output_type": "execute_result",
     "data": {
      "text/plain": [
       "579547"
      ]
     },
     "metadata": {},
     "execution_count": 18
    }
   ],
   "source": [
    "## getting a list of all lemmed and stemmed keywords without stopwords\n",
    "lyrics_wordlist = df_['cleaned_lyrics'].tolist()\n",
    "words_list = []\n",
    "for i in lyrics_wordlist:\n",
    "    words_list.extend(i)\n",
    "len(words_list)"
   ]
  },
  {
   "cell_type": "code",
   "execution_count": 19,
   "metadata": {},
   "outputs": [
    {
     "output_type": "execute_result",
     "data": {
      "text/plain": [
       "           word  count\n",
       "0            im  15249\n",
       "214        yeah   9620\n",
       "40         dont   8962\n",
       "33         love   6381\n",
       "34         babi   4687\n",
       "...         ...    ...\n",
       "23310      børn      1\n",
       "23307      lore      1\n",
       "23306      yoke      1\n",
       "23305      esso      1\n",
       "38878  arroparm      1\n",
       "\n",
       "[38879 rows x 2 columns]"
      ],
      "text/html": "<div>\n<style scoped>\n    .dataframe tbody tr th:only-of-type {\n        vertical-align: middle;\n    }\n\n    .dataframe tbody tr th {\n        vertical-align: top;\n    }\n\n    .dataframe thead th {\n        text-align: right;\n    }\n</style>\n<table border=\"1\" class=\"dataframe\">\n  <thead>\n    <tr style=\"text-align: right;\">\n      <th></th>\n      <th>word</th>\n      <th>count</th>\n    </tr>\n  </thead>\n  <tbody>\n    <tr>\n      <th>0</th>\n      <td>im</td>\n      <td>15249</td>\n    </tr>\n    <tr>\n      <th>214</th>\n      <td>yeah</td>\n      <td>9620</td>\n    </tr>\n    <tr>\n      <th>40</th>\n      <td>dont</td>\n      <td>8962</td>\n    </tr>\n    <tr>\n      <th>33</th>\n      <td>love</td>\n      <td>6381</td>\n    </tr>\n    <tr>\n      <th>34</th>\n      <td>babi</td>\n      <td>4687</td>\n    </tr>\n    <tr>\n      <th>...</th>\n      <td>...</td>\n      <td>...</td>\n    </tr>\n    <tr>\n      <th>23310</th>\n      <td>børn</td>\n      <td>1</td>\n    </tr>\n    <tr>\n      <th>23307</th>\n      <td>lore</td>\n      <td>1</td>\n    </tr>\n    <tr>\n      <th>23306</th>\n      <td>yoke</td>\n      <td>1</td>\n    </tr>\n    <tr>\n      <th>23305</th>\n      <td>esso</td>\n      <td>1</td>\n    </tr>\n    <tr>\n      <th>38878</th>\n      <td>arroparm</td>\n      <td>1</td>\n    </tr>\n  </tbody>\n</table>\n<p>38879 rows × 2 columns</p>\n</div>"
     },
     "metadata": {},
     "execution_count": 19
    }
   ],
   "source": [
    "# Creating a DataFrame of the Word Counts\n",
    "lyric_word_frequencies = pd.DataFrame.from_dict(Counter(words_list), orient = 'index').reset_index()\n",
    "lyric_word_frequencies = lyric_word_frequencies.rename(columns={'index':'word', 0:'count'})\n",
    "lyric_word_frequencies = lyric_word_frequencies.sort_values(by = \"count\", ascending = False)\n",
    "lyric_word_frequencies"
   ]
  },
  {
   "cell_type": "code",
   "execution_count": 20,
   "metadata": {},
   "outputs": [
    {
     "output_type": "execute_result",
     "data": {
      "text/plain": [
       "       word  count\n",
       "0        im  15249\n",
       "214    yeah   9620\n",
       "40     dont   8962\n",
       "33     love   6381\n",
       "34     babi   4687\n",
       "52    nigga   4462\n",
       "19    bitch   3959\n",
       "134    aint   3938\n",
       "250   wanna   3580\n",
       "247    feel   3389\n",
       "115    your   3303\n",
       "506    fuck   3175\n",
       "298    shit   2655\n",
       "253     ill   2198\n",
       "91     girl   2135\n",
       "620      pa   2083\n",
       "8736    ich   1954\n",
       "157   night   1850\n",
       "163    life   1783\n",
       "114    call   1752"
      ],
      "text/html": "<div>\n<style scoped>\n    .dataframe tbody tr th:only-of-type {\n        vertical-align: middle;\n    }\n\n    .dataframe tbody tr th {\n        vertical-align: top;\n    }\n\n    .dataframe thead th {\n        text-align: right;\n    }\n</style>\n<table border=\"1\" class=\"dataframe\">\n  <thead>\n    <tr style=\"text-align: right;\">\n      <th></th>\n      <th>word</th>\n      <th>count</th>\n    </tr>\n  </thead>\n  <tbody>\n    <tr>\n      <th>0</th>\n      <td>im</td>\n      <td>15249</td>\n    </tr>\n    <tr>\n      <th>214</th>\n      <td>yeah</td>\n      <td>9620</td>\n    </tr>\n    <tr>\n      <th>40</th>\n      <td>dont</td>\n      <td>8962</td>\n    </tr>\n    <tr>\n      <th>33</th>\n      <td>love</td>\n      <td>6381</td>\n    </tr>\n    <tr>\n      <th>34</th>\n      <td>babi</td>\n      <td>4687</td>\n    </tr>\n    <tr>\n      <th>52</th>\n      <td>nigga</td>\n      <td>4462</td>\n    </tr>\n    <tr>\n      <th>19</th>\n      <td>bitch</td>\n      <td>3959</td>\n    </tr>\n    <tr>\n      <th>134</th>\n      <td>aint</td>\n      <td>3938</td>\n    </tr>\n    <tr>\n      <th>250</th>\n      <td>wanna</td>\n      <td>3580</td>\n    </tr>\n    <tr>\n      <th>247</th>\n      <td>feel</td>\n      <td>3389</td>\n    </tr>\n    <tr>\n      <th>115</th>\n      <td>your</td>\n      <td>3303</td>\n    </tr>\n    <tr>\n      <th>506</th>\n      <td>fuck</td>\n      <td>3175</td>\n    </tr>\n    <tr>\n      <th>298</th>\n      <td>shit</td>\n      <td>2655</td>\n    </tr>\n    <tr>\n      <th>253</th>\n      <td>ill</td>\n      <td>2198</td>\n    </tr>\n    <tr>\n      <th>91</th>\n      <td>girl</td>\n      <td>2135</td>\n    </tr>\n    <tr>\n      <th>620</th>\n      <td>pa</td>\n      <td>2083</td>\n    </tr>\n    <tr>\n      <th>8736</th>\n      <td>ich</td>\n      <td>1954</td>\n    </tr>\n    <tr>\n      <th>157</th>\n      <td>night</td>\n      <td>1850</td>\n    </tr>\n    <tr>\n      <th>163</th>\n      <td>life</td>\n      <td>1783</td>\n    </tr>\n    <tr>\n      <th>114</th>\n      <td>call</td>\n      <td>1752</td>\n    </tr>\n  </tbody>\n</table>\n</div>"
     },
     "metadata": {},
     "execution_count": 20
    }
   ],
   "source": [
    "lyric_word_frequencies.head(20)"
   ]
  },
  {
   "cell_type": "code",
   "execution_count": 46,
   "metadata": {},
   "outputs": [],
   "source": [
    "lyric_word_frequencies.to_csv('cleaned_data/lyric_word_frequencies.csv', index = False)"
   ]
  },
  {
   "cell_type": "code",
   "execution_count": 44,
   "metadata": {},
   "outputs": [
    {
     "output_type": "execute_result",
     "data": {
      "text/plain": [
       "         word  count\n",
       "0          im  15249\n",
       "214      yeah   9620\n",
       "40       dont   8962\n",
       "33       love   6381\n",
       "34       babi   4687\n",
       "...       ...    ...\n",
       "456    fuckin    673\n",
       "306     chang    667\n",
       "723   diamond    653\n",
       "1202       má    645\n",
       "136      left    643\n",
       "\n",
       "[100 rows x 2 columns]"
      ],
      "text/html": "<div>\n<style scoped>\n    .dataframe tbody tr th:only-of-type {\n        vertical-align: middle;\n    }\n\n    .dataframe tbody tr th {\n        vertical-align: top;\n    }\n\n    .dataframe thead th {\n        text-align: right;\n    }\n</style>\n<table border=\"1\" class=\"dataframe\">\n  <thead>\n    <tr style=\"text-align: right;\">\n      <th></th>\n      <th>word</th>\n      <th>count</th>\n    </tr>\n  </thead>\n  <tbody>\n    <tr>\n      <th>0</th>\n      <td>im</td>\n      <td>15249</td>\n    </tr>\n    <tr>\n      <th>214</th>\n      <td>yeah</td>\n      <td>9620</td>\n    </tr>\n    <tr>\n      <th>40</th>\n      <td>dont</td>\n      <td>8962</td>\n    </tr>\n    <tr>\n      <th>33</th>\n      <td>love</td>\n      <td>6381</td>\n    </tr>\n    <tr>\n      <th>34</th>\n      <td>babi</td>\n      <td>4687</td>\n    </tr>\n    <tr>\n      <th>...</th>\n      <td>...</td>\n      <td>...</td>\n    </tr>\n    <tr>\n      <th>456</th>\n      <td>fuckin</td>\n      <td>673</td>\n    </tr>\n    <tr>\n      <th>306</th>\n      <td>chang</td>\n      <td>667</td>\n    </tr>\n    <tr>\n      <th>723</th>\n      <td>diamond</td>\n      <td>653</td>\n    </tr>\n    <tr>\n      <th>1202</th>\n      <td>má</td>\n      <td>645</td>\n    </tr>\n    <tr>\n      <th>136</th>\n      <td>left</td>\n      <td>643</td>\n    </tr>\n  </tbody>\n</table>\n<p>100 rows × 2 columns</p>\n</div>"
     },
     "metadata": {},
     "execution_count": 44
    }
   ],
   "source": [
    "top_100 = lyric_word_frequencies[:100]\n",
    "top_100"
   ]
  },
  {
   "cell_type": "code",
   "execution_count": 43,
   "metadata": {},
   "outputs": [
    {
     "output_type": "display_data",
     "data": {
      "text/plain": "  0%|          | 0/100 [00:00<?, ?it/s]",
      "application/vnd.jupyter.widget-view+json": {
       "version_major": 2,
       "version_minor": 0,
       "model_id": "69afb3f360634184984843130479ad23"
      }
     },
     "metadata": {}
    },
    {
     "output_type": "stream",
     "name": "stderr",
     "text": [
      "<ipython-input-43-63c4f564cc74>:1: SettingWithCopyWarning: \nA value is trying to be set on a copy of a slice from a DataFrame.\nTry using .loc[row_indexer,col_indexer] = value instead\n\nSee the caveats in the documentation: https://pandas.pydata.org/pandas-docs/stable/user_guide/indexing.html#returning-a-view-versus-a-copy\n  top_100['context_fragments'] = top_100['word'].progress_apply(find_instances, unaltered_string_list=responses_w_stopwords)\n"
     ]
    },
    {
     "output_type": "execute_result",
     "data": {
      "text/plain": [
       "         word  count                                  context_fragments\n",
       "0          im  15249                                                 []\n",
       "214      yeah   9620  [...do what I got to do.\", yeah So, rockabye, ...\n",
       "40       dont   8962        [...life shit, niggas make one I dont c...]\n",
       "33       love   6381  [...it with her face, man, I love my baby, ah ...\n",
       "34       babi   4687                                                 []\n",
       "...       ...    ...                                                ...\n",
       "456    fuckin    673                                                 []\n",
       "306     chang    667                                                 []\n",
       "723   diamond    653                                                 []\n",
       "1202       má    645                                                 []\n",
       "136      left    643  [...you I forget just why I left you, I was in...\n",
       "\n",
       "[100 rows x 3 columns]"
      ],
      "text/html": "<div>\n<style scoped>\n    .dataframe tbody tr th:only-of-type {\n        vertical-align: middle;\n    }\n\n    .dataframe tbody tr th {\n        vertical-align: top;\n    }\n\n    .dataframe thead th {\n        text-align: right;\n    }\n</style>\n<table border=\"1\" class=\"dataframe\">\n  <thead>\n    <tr style=\"text-align: right;\">\n      <th></th>\n      <th>word</th>\n      <th>count</th>\n      <th>context_fragments</th>\n    </tr>\n  </thead>\n  <tbody>\n    <tr>\n      <th>0</th>\n      <td>im</td>\n      <td>15249</td>\n      <td>[]</td>\n    </tr>\n    <tr>\n      <th>214</th>\n      <td>yeah</td>\n      <td>9620</td>\n      <td>[...do what I got to do.\", yeah So, rockabye, ...</td>\n    </tr>\n    <tr>\n      <th>40</th>\n      <td>dont</td>\n      <td>8962</td>\n      <td>[...life shit, niggas make one I dont c...]</td>\n    </tr>\n    <tr>\n      <th>33</th>\n      <td>love</td>\n      <td>6381</td>\n      <td>[...it with her face, man, I love my baby, ah ...</td>\n    </tr>\n    <tr>\n      <th>34</th>\n      <td>babi</td>\n      <td>4687</td>\n      <td>[]</td>\n    </tr>\n    <tr>\n      <th>...</th>\n      <td>...</td>\n      <td>...</td>\n      <td>...</td>\n    </tr>\n    <tr>\n      <th>456</th>\n      <td>fuckin</td>\n      <td>673</td>\n      <td>[]</td>\n    </tr>\n    <tr>\n      <th>306</th>\n      <td>chang</td>\n      <td>667</td>\n      <td>[]</td>\n    </tr>\n    <tr>\n      <th>723</th>\n      <td>diamond</td>\n      <td>653</td>\n      <td>[]</td>\n    </tr>\n    <tr>\n      <th>1202</th>\n      <td>má</td>\n      <td>645</td>\n      <td>[]</td>\n    </tr>\n    <tr>\n      <th>136</th>\n      <td>left</td>\n      <td>643</td>\n      <td>[...you I forget just why I left you, I was in...</td>\n    </tr>\n  </tbody>\n</table>\n<p>100 rows × 3 columns</p>\n</div>"
     },
     "metadata": {},
     "execution_count": 43
    }
   ],
   "source": [
    "top_100['context_fragments'] = top_100['word'].progress_apply(find_instances, unaltered_string_list=responses_w_stopwords)\n",
    "top_100"
   ]
  },
  {
   "cell_type": "code",
   "execution_count": null,
   "metadata": {},
   "outputs": [],
   "source": []
  }
 ]
}