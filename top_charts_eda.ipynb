{
 "metadata": {
  "language_info": {
   "codemirror_mode": {
    "name": "ipython",
    "version": 3
   },
   "file_extension": ".py",
   "mimetype": "text/x-python",
   "name": "python",
   "nbconvert_exporter": "python",
   "pygments_lexer": "ipython3",
   "version": "3.8.2-final"
  },
  "orig_nbformat": 2,
  "kernelspec": {
   "name": "python3",
   "display_name": "Python 3.8.2 64-bit",
   "metadata": {
    "interpreter": {
     "hash": "31f2aee4e71d21fbe5cf8b01ff0e069b9275f58929596ceb00d14d90e3e16cd6"
    }
   }
  }
 },
 "nbformat": 4,
 "nbformat_minor": 2,
 "cells": [
  {
   "source": [
    "# Top Charts Exploratory Data Analysis"
   ],
   "cell_type": "markdown",
   "metadata": {}
  },
  {
   "source": [
    "## Loading Dependencies"
   ],
   "cell_type": "markdown",
   "metadata": {}
  },
  {
   "cell_type": "code",
   "execution_count": 191,
   "metadata": {},
   "outputs": [],
   "source": [
    "import pandas as pd\n",
    "from collections import Counter\n",
    "import altair as alt\n",
    "import nltk\n",
    "import regex as re"
   ]
  },
  {
   "source": [
    "## Loading in Data"
   ],
   "cell_type": "markdown",
   "metadata": {}
  },
  {
   "cell_type": "code",
   "execution_count": 192,
   "metadata": {},
   "outputs": [
    {
     "output_type": "execute_result",
     "data": {
      "text/plain": [
       "                     artist  \\\n",
       "0     The Weeknd, Daft Punk   \n",
       "1  The Chainsmokers, Halsey   \n",
       "2              Clean Bandit   \n",
       "3   DJ Snake, Justin Bieber   \n",
       "4        ZAYN, Taylor Swift   \n",
       "\n",
       "                                               track     genius_artist  \\\n",
       "0                                            Starboy        The weeknd   \n",
       "1                                             Closer  The chainsmokers   \n",
       "2            Rockabye (feat. Sean Paul & Anne-Marie)      Clean bandit   \n",
       "3                                    Let Me Love You          Dj snake   \n",
       "4  I Don’t Wanna Live Forever (Fifty Shades Darke...              Zayn   \n",
       "\n",
       "                genius_track  \\\n",
       "0                    Starboy   \n",
       "1                     Closer   \n",
       "2                   Rockabye   \n",
       "3            Let me love you   \n",
       "4  I dont wanna live forever   \n",
       "\n",
       "                                              lyrics     genre  \n",
       "0     I'm tryna put you in the worst mood, ah P1 ...  r-b, pop  \n",
       "1     Hey, I was doing just fine before I met you...       pop  \n",
       "2     Call it love and devotion Call it a mom's a...       pop  \n",
       "3     I used to believe We were burnin' on the ed...       pop  \n",
       "4     Been sitting eyes wide open behind these fo...  r-b, pop  "
      ],
      "text/html": "<div>\n<style scoped>\n    .dataframe tbody tr th:only-of-type {\n        vertical-align: middle;\n    }\n\n    .dataframe tbody tr th {\n        vertical-align: top;\n    }\n\n    .dataframe thead th {\n        text-align: right;\n    }\n</style>\n<table border=\"1\" class=\"dataframe\">\n  <thead>\n    <tr style=\"text-align: right;\">\n      <th></th>\n      <th>artist</th>\n      <th>track</th>\n      <th>genius_artist</th>\n      <th>genius_track</th>\n      <th>lyrics</th>\n      <th>genre</th>\n    </tr>\n  </thead>\n  <tbody>\n    <tr>\n      <th>0</th>\n      <td>The Weeknd, Daft Punk</td>\n      <td>Starboy</td>\n      <td>The weeknd</td>\n      <td>Starboy</td>\n      <td>I'm tryna put you in the worst mood, ah P1 ...</td>\n      <td>r-b, pop</td>\n    </tr>\n    <tr>\n      <th>1</th>\n      <td>The Chainsmokers, Halsey</td>\n      <td>Closer</td>\n      <td>The chainsmokers</td>\n      <td>Closer</td>\n      <td>Hey, I was doing just fine before I met you...</td>\n      <td>pop</td>\n    </tr>\n    <tr>\n      <th>2</th>\n      <td>Clean Bandit</td>\n      <td>Rockabye (feat. Sean Paul &amp; Anne-Marie)</td>\n      <td>Clean bandit</td>\n      <td>Rockabye</td>\n      <td>Call it love and devotion Call it a mom's a...</td>\n      <td>pop</td>\n    </tr>\n    <tr>\n      <th>3</th>\n      <td>DJ Snake, Justin Bieber</td>\n      <td>Let Me Love You</td>\n      <td>Dj snake</td>\n      <td>Let me love you</td>\n      <td>I used to believe We were burnin' on the ed...</td>\n      <td>pop</td>\n    </tr>\n    <tr>\n      <th>4</th>\n      <td>ZAYN, Taylor Swift</td>\n      <td>I Don’t Wanna Live Forever (Fifty Shades Darke...</td>\n      <td>Zayn</td>\n      <td>I dont wanna live forever</td>\n      <td>Been sitting eyes wide open behind these fo...</td>\n      <td>r-b, pop</td>\n    </tr>\n  </tbody>\n</table>\n</div>"
     },
     "metadata": {},
     "execution_count": 192
    }
   ],
   "source": [
    "df = pd.read_csv('cleaned_data/all_top_songs_with_genres_nolist.csv')\n",
    "# preview of dataframe\n",
    "df.head()"
   ]
  },
  {
   "source": [
    "## Cleaning Up List of Genres"
   ],
   "cell_type": "markdown",
   "metadata": {}
  },
  {
   "cell_type": "code",
   "execution_count": 193,
   "metadata": {},
   "outputs": [],
   "source": [
    "# cleaning up the genres column on copy of dataframe\n",
    "df_ = df.copy()\n",
    "df_['genre'] = df_['genre'].str.split(\", \")\n"
   ]
  },
  {
   "cell_type": "code",
   "execution_count": 194,
   "metadata": {},
   "outputs": [],
   "source": [
    "# add all values to a list to generate a unique list of values\n",
    "genres_list = []\n",
    "for idx, value in enumerate(df_['genre']):\n",
    "    genres_list.extend(value)"
   ]
  },
  {
   "source": [
    "### Adding in Columns for genres"
   ],
   "cell_type": "markdown",
   "metadata": {}
  },
  {
   "cell_type": "code",
   "execution_count": 195,
   "metadata": {},
   "outputs": [],
   "source": [
    "df_['pop'] = df.genre.str.contains('pop')==True\n",
    "df_['rb'] = df.genre.str.contains('r-b')==True\n",
    "df_['rap'] = df.genre.str.contains('rap')==True\n",
    "df_['rock'] = df.genre.str.contains('rock')==True\n",
    "df_['non-music'] = df.genre.str.contains('non-music')==True\n",
    "df_['country'] = df.genre.str.contains('country')==True\n",
    "df_['no_genre'] = df.genre.str.contains('m')==True"
   ]
  },
  {
   "cell_type": "code",
   "execution_count": 196,
   "metadata": {},
   "outputs": [
    {
     "output_type": "execute_result",
     "data": {
      "text/plain": [
       "                     artist  \\\n",
       "0     The Weeknd, Daft Punk   \n",
       "1  The Chainsmokers, Halsey   \n",
       "2              Clean Bandit   \n",
       "3   DJ Snake, Justin Bieber   \n",
       "4        ZAYN, Taylor Swift   \n",
       "\n",
       "                                               track     genius_artist  \\\n",
       "0                                            Starboy        The weeknd   \n",
       "1                                             Closer  The chainsmokers   \n",
       "2            Rockabye (feat. Sean Paul & Anne-Marie)      Clean bandit   \n",
       "3                                    Let Me Love You          Dj snake   \n",
       "4  I Don’t Wanna Live Forever (Fifty Shades Darke...              Zayn   \n",
       "\n",
       "                genius_track  \\\n",
       "0                    Starboy   \n",
       "1                     Closer   \n",
       "2                   Rockabye   \n",
       "3            Let me love you   \n",
       "4  I dont wanna live forever   \n",
       "\n",
       "                                              lyrics       genre  pop  rb  \\\n",
       "0     I'm tryna put you in the worst mood, ah P1 ...  [r-b, pop]    1   1   \n",
       "1     Hey, I was doing just fine before I met you...       [pop]    1   0   \n",
       "2     Call it love and devotion Call it a mom's a...       [pop]    1   0   \n",
       "3     I used to believe We were burnin' on the ed...       [pop]    1   0   \n",
       "4     Been sitting eyes wide open behind these fo...  [r-b, pop]    1   1   \n",
       "\n",
       "   rap  rock  non-music  country  no_genre  \n",
       "0    0     0          0        0         0  \n",
       "1    0     0          0        0         0  \n",
       "2    0     0          0        0         0  \n",
       "3    0     0          0        0         0  \n",
       "4    0     0          0        0         0  "
      ],
      "text/html": "<div>\n<style scoped>\n    .dataframe tbody tr th:only-of-type {\n        vertical-align: middle;\n    }\n\n    .dataframe tbody tr th {\n        vertical-align: top;\n    }\n\n    .dataframe thead th {\n        text-align: right;\n    }\n</style>\n<table border=\"1\" class=\"dataframe\">\n  <thead>\n    <tr style=\"text-align: right;\">\n      <th></th>\n      <th>artist</th>\n      <th>track</th>\n      <th>genius_artist</th>\n      <th>genius_track</th>\n      <th>lyrics</th>\n      <th>genre</th>\n      <th>pop</th>\n      <th>rb</th>\n      <th>rap</th>\n      <th>rock</th>\n      <th>non-music</th>\n      <th>country</th>\n      <th>no_genre</th>\n    </tr>\n  </thead>\n  <tbody>\n    <tr>\n      <th>0</th>\n      <td>The Weeknd, Daft Punk</td>\n      <td>Starboy</td>\n      <td>The weeknd</td>\n      <td>Starboy</td>\n      <td>I'm tryna put you in the worst mood, ah P1 ...</td>\n      <td>[r-b, pop]</td>\n      <td>1</td>\n      <td>1</td>\n      <td>0</td>\n      <td>0</td>\n      <td>0</td>\n      <td>0</td>\n      <td>0</td>\n    </tr>\n    <tr>\n      <th>1</th>\n      <td>The Chainsmokers, Halsey</td>\n      <td>Closer</td>\n      <td>The chainsmokers</td>\n      <td>Closer</td>\n      <td>Hey, I was doing just fine before I met you...</td>\n      <td>[pop]</td>\n      <td>1</td>\n      <td>0</td>\n      <td>0</td>\n      <td>0</td>\n      <td>0</td>\n      <td>0</td>\n      <td>0</td>\n    </tr>\n    <tr>\n      <th>2</th>\n      <td>Clean Bandit</td>\n      <td>Rockabye (feat. Sean Paul &amp; Anne-Marie)</td>\n      <td>Clean bandit</td>\n      <td>Rockabye</td>\n      <td>Call it love and devotion Call it a mom's a...</td>\n      <td>[pop]</td>\n      <td>1</td>\n      <td>0</td>\n      <td>0</td>\n      <td>0</td>\n      <td>0</td>\n      <td>0</td>\n      <td>0</td>\n    </tr>\n    <tr>\n      <th>3</th>\n      <td>DJ Snake, Justin Bieber</td>\n      <td>Let Me Love You</td>\n      <td>Dj snake</td>\n      <td>Let me love you</td>\n      <td>I used to believe We were burnin' on the ed...</td>\n      <td>[pop]</td>\n      <td>1</td>\n      <td>0</td>\n      <td>0</td>\n      <td>0</td>\n      <td>0</td>\n      <td>0</td>\n      <td>0</td>\n    </tr>\n    <tr>\n      <th>4</th>\n      <td>ZAYN, Taylor Swift</td>\n      <td>I Don’t Wanna Live Forever (Fifty Shades Darke...</td>\n      <td>Zayn</td>\n      <td>I dont wanna live forever</td>\n      <td>Been sitting eyes wide open behind these fo...</td>\n      <td>[r-b, pop]</td>\n      <td>1</td>\n      <td>1</td>\n      <td>0</td>\n      <td>0</td>\n      <td>0</td>\n      <td>0</td>\n      <td>0</td>\n    </tr>\n  </tbody>\n</table>\n</div>"
     },
     "metadata": {},
     "execution_count": 196
    }
   ],
   "source": [
    "df_['pop'] = df_['pop'].astype(int)\n",
    "df_['rb'] = df_['rb'].astype(int)\n",
    "df_['rap'] = df_['rap'].astype(int)\n",
    "df_['rock'] = df_['rock'].astype(int)\n",
    "df_['non-music'] = df_['non-music'].astype(int)\n",
    "df_['country'] = df_['country'].astype(int)\n",
    "df_['no_genre'] = df_['no_genre'].astype(int)\n",
    "df_.head()"
   ]
  },
  {
   "cell_type": "code",
   "execution_count": 197,
   "metadata": {},
   "outputs": [],
   "source": [
    "### Saving to CSV\n",
    "df_.to_csv('cleaned_data/OHE_all_top_songs.csv', index=False)"
   ]
  },
  {
   "cell_type": "code",
   "execution_count": 198,
   "metadata": {},
   "outputs": [
    {
     "output_type": "execute_result",
     "data": {
      "text/plain": [
       "202         Don Omar, Zion & Lennox\n",
       "586                    Lil Uzi Vert\n",
       "591                    Lil Uzi Vert\n",
       "614     G-Eazy, A$AP Rocky, Cardi B\n",
       "700                          Eminem\n",
       "750                          Eminem\n",
       "758                          Eminem\n",
       "763                          Eminem\n",
       "767                          Eminem\n",
       "769            G-Eazy, Charlie Puth\n",
       "770                          Eminem\n",
       "771                          Eminem\n",
       "773                          Eminem\n",
       "775                          Eminem\n",
       "777                          Eminem\n",
       "810                    Travis Scott\n",
       "829                      Juice WRLD\n",
       "1016                     Juice WRLD\n",
       "1060                     Juice WRLD\n",
       "1061                     Juice WRLD\n",
       "1574                   Taylor Swift\n",
       "1858                     Kanye West\n",
       "2021                   Travis Scott\n",
       "2093                         Eminem\n",
       "2260                    Don Toliver\n",
       "2312                         Eminem\n",
       "2317                         Eminem\n",
       "2466                    Don Toliver\n",
       "2556                   Lil Uzi Vert\n",
       "2719                     Juice WRLD\n",
       "2776                     Juice WRLD\n",
       "3099                         Eminem\n",
       "3157                   Taylor Swift\n",
       "3298                 Paul Rosenberg\n",
       "3371                  The Kid LAROI\n",
       "Name: artist, dtype: object"
      ]
     },
     "metadata": {},
     "execution_count": 198
    }
   ],
   "source": [
    "df_[df_['non-music'] == 1]['artist']"
   ]
  },
  {
   "cell_type": "code",
   "execution_count": 199,
   "metadata": {},
   "outputs": [],
   "source": [
    "# drop non-music and bc they are all either having another genre or missing a genre\n",
    "df_ = df_.drop(columns=['non-music'])"
   ]
  },
  {
   "cell_type": "code",
   "execution_count": 200,
   "metadata": {},
   "outputs": [],
   "source": [
    "missing_genres = []\n",
    "for i in range(len(df_.artist)):\n",
    "    if sum(df_.iloc[i,6:11]) > 0:\n",
    "        item = 0\n",
    "        missing_genres.append(item)\n",
    "    else:\n",
    "        item = 1\n",
    "        missing_genres.append(item)"
   ]
  },
  {
   "cell_type": "code",
   "execution_count": 201,
   "metadata": {},
   "outputs": [],
   "source": [
    "df_['no_genre'] = missing_genres"
   ]
  },
  {
   "source": [
    "## Visualizations"
   ],
   "cell_type": "markdown",
   "metadata": {}
  },
  {
   "cell_type": "code",
   "execution_count": 202,
   "metadata": {},
   "outputs": [
    {
     "output_type": "execute_result",
     "data": {
      "text/plain": [
       "{'r-b': 520,\n",
       " 'pop': 1912,\n",
       " 'rap': 1463,\n",
       " 'rock': 225,\n",
       " 'non-music': 35,\n",
       " 'country': 42,\n",
       " 'm': 148}"
      ]
     },
     "metadata": {},
     "execution_count": 202
    }
   ],
   "source": [
    "genre_frequencies = dict(Counter(genres_list))\n",
    "genre_frequencies"
   ]
  },
  {
   "cell_type": "code",
   "execution_count": 203,
   "metadata": {},
   "outputs": [],
   "source": [
    "genre_frequencies_df = pd.DataFrame.from_records([genre_frequencies])\n",
    "genre_frequencies_df = genre_frequencies_df.rename(index={0:'counts'}).T.reset_index().rename(columns={'index':'genres'})\n",
    "genre_frequencies_df = genre_frequencies_df[genre_frequencies_df['genres'].isin(['r-b', 'pop', 'rap', 'rock', 'country'])]\n",
    "genre_frequencies_df.to_csv('cleaned_data/genre_song_counts.csv', index = False)"
   ]
  },
  {
   "cell_type": "code",
   "execution_count": null,
   "metadata": {},
   "outputs": [],
   "source": []
  },
  {
   "cell_type": "code",
   "execution_count": 204,
   "metadata": {},
   "outputs": [
    {
     "output_type": "execute_result",
     "data": {
      "text/html": "\n<div id=\"altair-viz-06cf8ef954544a7dafd63e1dc0c5648a\"></div>\n<script type=\"text/javascript\">\n  (function(spec, embedOpt){\n    let outputDiv = document.currentScript.previousElementSibling;\n    if (outputDiv.id !== \"altair-viz-06cf8ef954544a7dafd63e1dc0c5648a\") {\n      outputDiv = document.getElementById(\"altair-viz-06cf8ef954544a7dafd63e1dc0c5648a\");\n    }\n    const paths = {\n      \"vega\": \"https://cdn.jsdelivr.net/npm//vega@5?noext\",\n      \"vega-lib\": \"https://cdn.jsdelivr.net/npm//vega-lib?noext\",\n      \"vega-lite\": \"https://cdn.jsdelivr.net/npm//vega-lite@4.8.1?noext\",\n      \"vega-embed\": \"https://cdn.jsdelivr.net/npm//vega-embed@6?noext\",\n    };\n\n    function loadScript(lib) {\n      return new Promise(function(resolve, reject) {\n        var s = document.createElement('script');\n        s.src = paths[lib];\n        s.async = true;\n        s.onload = () => resolve(paths[lib]);\n        s.onerror = () => reject(`Error loading script: ${paths[lib]}`);\n        document.getElementsByTagName(\"head\")[0].appendChild(s);\n      });\n    }\n\n    function showError(err) {\n      outputDiv.innerHTML = `<div class=\"error\" style=\"color:red;\">${err}</div>`;\n      throw err;\n    }\n\n    function displayChart(vegaEmbed) {\n      vegaEmbed(outputDiv, spec, embedOpt)\n        .catch(err => showError(`Javascript Error: ${err.message}<br>This usually means there's a typo in your chart specification. See the javascript console for the full traceback.`));\n    }\n\n    if(typeof define === \"function\" && define.amd) {\n      requirejs.config({paths});\n      require([\"vega-embed\"], displayChart, err => showError(`Error loading script: ${err.message}`));\n    } else if (typeof vegaEmbed === \"function\") {\n      displayChart(vegaEmbed);\n    } else {\n      loadScript(\"vega\")\n        .then(() => loadScript(\"vega-lite\"))\n        .then(() => loadScript(\"vega-embed\"))\n        .catch(showError)\n        .then(() => displayChart(vegaEmbed));\n    }\n  })({\"config\": {\"view\": {\"continuousWidth\": 400, \"continuousHeight\": 300}, \"range\": {\"category\": {\"scheme\": \"tableau10\"}}}, \"layer\": [{\"mark\": \"bar\", \"encoding\": {\"color\": {\"type\": \"nominal\", \"field\": \"genres\"}, \"x\": {\"type\": \"nominal\", \"field\": \"genres\"}, \"y\": {\"type\": \"quantitative\", \"field\": \"counts\"}}}, {\"mark\": {\"type\": \"text\", \"align\": \"center\", \"dy\": -10}, \"encoding\": {\"color\": {\"type\": \"nominal\", \"field\": \"genres\"}, \"text\": {\"type\": \"quantitative\", \"field\": \"counts\"}, \"x\": {\"type\": \"nominal\", \"field\": \"genres\"}, \"y\": {\"type\": \"quantitative\", \"field\": \"counts\"}}}], \"data\": {\"name\": \"data-71b9376e6bf3f53f754160b399217023\"}, \"height\": 500, \"title\": \"Frequency of Genres on Top 200 Charts\", \"width\": 400, \"$schema\": \"https://vega.github.io/schema/vega-lite/v4.8.1.json\", \"datasets\": {\"data-71b9376e6bf3f53f754160b399217023\": [{\"genres\": \"r-b\", \"counts\": 520}, {\"genres\": \"pop\", \"counts\": 1912}, {\"genres\": \"rap\", \"counts\": 1463}, {\"genres\": \"rock\", \"counts\": 225}, {\"genres\": \"country\", \"counts\": 42}]}}, {\"mode\": \"vega-lite\"});\n</script>",
      "text/plain": [
       "alt.LayerChart(...)"
      ]
     },
     "metadata": {},
     "execution_count": 204
    }
   ],
   "source": [
    "bars = alt.Chart(data=genre_frequencies_df).mark_bar().encode(\n",
    "x= 'genres',\n",
    "y = 'counts',\n",
    "color = 'genres'\n",
    ")\n",
    "text = bars.mark_text(\n",
    "    align='center',\n",
    "    # baseline='top',\n",
    "    dy=-10 \n",
    ").encode(\n",
    "    text='counts:Q',\n",
    ")\n",
    "\n",
    "(bars + text).properties(height=500, width = 400,title = \"Frequency of Genres on Top 200 Charts\").configure_range(\n",
    "    category={'scheme': 'tableau10'}\n",
    ")"
   ]
  },
  {
   "source": [
    "There seem to be data that is labeled as non-music which is strange because there shouldn't be any labeled non-music. If there is another genre listed, remove non-music"
   ],
   "cell_type": "markdown",
   "metadata": {}
  },
  {
   "source": [
    "# Keyword Extraction of all Genres"
   ],
   "cell_type": "markdown",
   "metadata": {}
  },
  {
   "cell_type": "code",
   "execution_count": 205,
   "metadata": {},
   "outputs": [],
   "source": [
    "### Importing More Dependencies\n",
    "from resources.word_extraction.text_cleaning import lem_stem_text\n",
    "from resources.word_extraction.stopwords import remove_stopw, get_stopwords\n",
    "from resources.analyze import find_keywords, find_instances"
   ]
  },
  {
   "cell_type": "code",
   "execution_count": 206,
   "metadata": {},
   "outputs": [],
   "source": [
    "df_['cleaned_lyrics'] = df_['lyrics'].str.replace('[^\\w\\s]','')\n",
    "df_['cleaned_lyrics'] = df_['cleaned_lyrics'].str.replace('missing lyrics','')\n",
    "df_['cleaned_lyrics'] = df_['cleaned_lyrics'].apply(remove_stopw)\n",
    "df_['cleaned_lyrics'] = df_['cleaned_lyrics'].apply(lem_stem_text)\n",
    "df_['cleaned_lyrics'] = df_.cleaned_lyrics.str.strip().str.split(' ')"
   ]
  },
  {
   "cell_type": "code",
   "execution_count": 207,
   "metadata": {},
   "outputs": [
    {
     "output_type": "execute_result",
     "data": {
      "text/plain": [
       "                        artist  \\\n",
       "0        The Weeknd, Daft Punk   \n",
       "1     The Chainsmokers, Halsey   \n",
       "2                 Clean Bandit   \n",
       "3      DJ Snake, Justin Bieber   \n",
       "4           ZAYN, Taylor Swift   \n",
       "...                        ...   \n",
       "3419             Sfera Ebbasta   \n",
       "3420           Trio Vegabajeño   \n",
       "3421           Camilo, El Alfa   \n",
       "3422              Taylor Swift   \n",
       "3423               Bing Crosby   \n",
       "\n",
       "                                                  track     genius_artist  \\\n",
       "0                                               Starboy        The weeknd   \n",
       "1                                                Closer  The chainsmokers   \n",
       "2               Rockabye (feat. Sean Paul & Anne-Marie)      Clean bandit   \n",
       "3                                       Let Me Love You          Dj snake   \n",
       "4     I Don’t Wanna Live Forever (Fifty Shades Darke...              Zayn   \n",
       "...                                                 ...               ...   \n",
       "3419                            Hollywood (feat. Diplo)     Sfera ebbasta   \n",
       "3420                                CANTARES DE NAVIDAD   Trio vegabajeno   \n",
       "3421                                               BEBÉ            Camilo   \n",
       "3422                                   long story short      Taylor swift   \n",
       "3423         Do You Hear What I Hear? - Remastered 2006       Bing crosby   \n",
       "\n",
       "                   genius_track  \\\n",
       "0                       Starboy   \n",
       "1                        Closer   \n",
       "2                      Rockabye   \n",
       "3               Let me love you   \n",
       "4     I dont wanna live forever   \n",
       "...                         ...   \n",
       "3419                  Hollywood   \n",
       "3420        Cantares de navidad   \n",
       "3421                       Bebe   \n",
       "3422           Long story short   \n",
       "3423    Do you hear what i hear   \n",
       "\n",
       "                                                 lyrics       genre  pop  rb  \\\n",
       "0        I'm tryna put you in the worst mood, ah P1 ...  [r-b, pop]    1   1   \n",
       "1        Hey, I was doing just fine before I met you...       [pop]    1   0   \n",
       "2        Call it love and devotion Call it a mom's a...       [pop]    1   0   \n",
       "3        I used to believe We were burnin' on the ed...       [pop]    1   0   \n",
       "4        Been sitting eyes wide open behind these fo...  [r-b, pop]    1   1   \n",
       "...                                                 ...         ...  ...  ..   \n",
       "3419       La mia ex mi scrive Mi dice che le manco ...       [pop]    1   0   \n",
       "3420       Navidad que vuelve, tradición del año Uno...       [pop]    1   0   \n",
       "3421       Un, dos, tres y   El la'o de tu cama que ...       [pop]    1   0   \n",
       "3422                                     missing lyrics         [m]    0   0   \n",
       "3423    Do you hear what I hear?  Said the night win...       [pop]    1   0   \n",
       "\n",
       "      rap  rock  country  no_genre  \\\n",
       "0       0     0        0         0   \n",
       "1       0     0        0         0   \n",
       "2       0     0        0         0   \n",
       "3       0     0        0         0   \n",
       "4       0     0        0         0   \n",
       "...   ...   ...      ...       ...   \n",
       "3419    0     0        0         0   \n",
       "3420    0     0        0         0   \n",
       "3421    0     0        0         0   \n",
       "3422    0     0        0         1   \n",
       "3423    0     0        0         0   \n",
       "\n",
       "                                         cleaned_lyrics  \n",
       "0     [im, tryna, worst, mood, ah, p1, cleaner, chur...  \n",
       "1     [hey, fine, met, drink, issu, im, hey, friend,...  \n",
       "2     [call, love, devot, call, mom, ador, foundat, ...  \n",
       "3     [burnin, edg, somethin, beauti, somethin, beau...  \n",
       "4     [sit, eye, wide, wall, hope, youd, call, cruel...  \n",
       "...                                                 ...  \n",
       "3419  [scrive, dice, che, manco, da, morir, quando, ...  \n",
       "3420  [navidad, vuelv, tradición, año, van, alegr, v...  \n",
       "3421  [do, tre, lao, cama, calient, está, congelando...  \n",
       "3422                                                 []  \n",
       "3423  [hear, hear, night, wind, lamb, sky, lamb, sta...  \n",
       "\n",
       "[3424 rows x 13 columns]"
      ],
      "text/html": "<div>\n<style scoped>\n    .dataframe tbody tr th:only-of-type {\n        vertical-align: middle;\n    }\n\n    .dataframe tbody tr th {\n        vertical-align: top;\n    }\n\n    .dataframe thead th {\n        text-align: right;\n    }\n</style>\n<table border=\"1\" class=\"dataframe\">\n  <thead>\n    <tr style=\"text-align: right;\">\n      <th></th>\n      <th>artist</th>\n      <th>track</th>\n      <th>genius_artist</th>\n      <th>genius_track</th>\n      <th>lyrics</th>\n      <th>genre</th>\n      <th>pop</th>\n      <th>rb</th>\n      <th>rap</th>\n      <th>rock</th>\n      <th>country</th>\n      <th>no_genre</th>\n      <th>cleaned_lyrics</th>\n    </tr>\n  </thead>\n  <tbody>\n    <tr>\n      <th>0</th>\n      <td>The Weeknd, Daft Punk</td>\n      <td>Starboy</td>\n      <td>The weeknd</td>\n      <td>Starboy</td>\n      <td>I'm tryna put you in the worst mood, ah P1 ...</td>\n      <td>[r-b, pop]</td>\n      <td>1</td>\n      <td>1</td>\n      <td>0</td>\n      <td>0</td>\n      <td>0</td>\n      <td>0</td>\n      <td>[im, tryna, worst, mood, ah, p1, cleaner, chur...</td>\n    </tr>\n    <tr>\n      <th>1</th>\n      <td>The Chainsmokers, Halsey</td>\n      <td>Closer</td>\n      <td>The chainsmokers</td>\n      <td>Closer</td>\n      <td>Hey, I was doing just fine before I met you...</td>\n      <td>[pop]</td>\n      <td>1</td>\n      <td>0</td>\n      <td>0</td>\n      <td>0</td>\n      <td>0</td>\n      <td>0</td>\n      <td>[hey, fine, met, drink, issu, im, hey, friend,...</td>\n    </tr>\n    <tr>\n      <th>2</th>\n      <td>Clean Bandit</td>\n      <td>Rockabye (feat. Sean Paul &amp; Anne-Marie)</td>\n      <td>Clean bandit</td>\n      <td>Rockabye</td>\n      <td>Call it love and devotion Call it a mom's a...</td>\n      <td>[pop]</td>\n      <td>1</td>\n      <td>0</td>\n      <td>0</td>\n      <td>0</td>\n      <td>0</td>\n      <td>0</td>\n      <td>[call, love, devot, call, mom, ador, foundat, ...</td>\n    </tr>\n    <tr>\n      <th>3</th>\n      <td>DJ Snake, Justin Bieber</td>\n      <td>Let Me Love You</td>\n      <td>Dj snake</td>\n      <td>Let me love you</td>\n      <td>I used to believe We were burnin' on the ed...</td>\n      <td>[pop]</td>\n      <td>1</td>\n      <td>0</td>\n      <td>0</td>\n      <td>0</td>\n      <td>0</td>\n      <td>0</td>\n      <td>[burnin, edg, somethin, beauti, somethin, beau...</td>\n    </tr>\n    <tr>\n      <th>4</th>\n      <td>ZAYN, Taylor Swift</td>\n      <td>I Don’t Wanna Live Forever (Fifty Shades Darke...</td>\n      <td>Zayn</td>\n      <td>I dont wanna live forever</td>\n      <td>Been sitting eyes wide open behind these fo...</td>\n      <td>[r-b, pop]</td>\n      <td>1</td>\n      <td>1</td>\n      <td>0</td>\n      <td>0</td>\n      <td>0</td>\n      <td>0</td>\n      <td>[sit, eye, wide, wall, hope, youd, call, cruel...</td>\n    </tr>\n    <tr>\n      <th>...</th>\n      <td>...</td>\n      <td>...</td>\n      <td>...</td>\n      <td>...</td>\n      <td>...</td>\n      <td>...</td>\n      <td>...</td>\n      <td>...</td>\n      <td>...</td>\n      <td>...</td>\n      <td>...</td>\n      <td>...</td>\n      <td>...</td>\n    </tr>\n    <tr>\n      <th>3419</th>\n      <td>Sfera Ebbasta</td>\n      <td>Hollywood (feat. Diplo)</td>\n      <td>Sfera ebbasta</td>\n      <td>Hollywood</td>\n      <td>La mia ex mi scrive Mi dice che le manco ...</td>\n      <td>[pop]</td>\n      <td>1</td>\n      <td>0</td>\n      <td>0</td>\n      <td>0</td>\n      <td>0</td>\n      <td>0</td>\n      <td>[scrive, dice, che, manco, da, morir, quando, ...</td>\n    </tr>\n    <tr>\n      <th>3420</th>\n      <td>Trio Vegabajeño</td>\n      <td>CANTARES DE NAVIDAD</td>\n      <td>Trio vegabajeno</td>\n      <td>Cantares de navidad</td>\n      <td>Navidad que vuelve, tradición del año Uno...</td>\n      <td>[pop]</td>\n      <td>1</td>\n      <td>0</td>\n      <td>0</td>\n      <td>0</td>\n      <td>0</td>\n      <td>0</td>\n      <td>[navidad, vuelv, tradición, año, van, alegr, v...</td>\n    </tr>\n    <tr>\n      <th>3421</th>\n      <td>Camilo, El Alfa</td>\n      <td>BEBÉ</td>\n      <td>Camilo</td>\n      <td>Bebe</td>\n      <td>Un, dos, tres y   El la'o de tu cama que ...</td>\n      <td>[pop]</td>\n      <td>1</td>\n      <td>0</td>\n      <td>0</td>\n      <td>0</td>\n      <td>0</td>\n      <td>0</td>\n      <td>[do, tre, lao, cama, calient, está, congelando...</td>\n    </tr>\n    <tr>\n      <th>3422</th>\n      <td>Taylor Swift</td>\n      <td>long story short</td>\n      <td>Taylor swift</td>\n      <td>Long story short</td>\n      <td>missing lyrics</td>\n      <td>[m]</td>\n      <td>0</td>\n      <td>0</td>\n      <td>0</td>\n      <td>0</td>\n      <td>0</td>\n      <td>1</td>\n      <td>[]</td>\n    </tr>\n    <tr>\n      <th>3423</th>\n      <td>Bing Crosby</td>\n      <td>Do You Hear What I Hear? - Remastered 2006</td>\n      <td>Bing crosby</td>\n      <td>Do you hear what i hear</td>\n      <td>Do you hear what I hear?  Said the night win...</td>\n      <td>[pop]</td>\n      <td>1</td>\n      <td>0</td>\n      <td>0</td>\n      <td>0</td>\n      <td>0</td>\n      <td>0</td>\n      <td>[hear, hear, night, wind, lamb, sky, lamb, sta...</td>\n    </tr>\n  </tbody>\n</table>\n<p>3424 rows × 13 columns</p>\n</div>"
     },
     "metadata": {},
     "execution_count": 207
    }
   ],
   "source": [
    "df_"
   ]
  },
  {
   "cell_type": "code",
   "execution_count": 208,
   "metadata": {},
   "outputs": [
    {
     "output_type": "execute_result",
     "data": {
      "text/plain": [
       "579547"
      ]
     },
     "metadata": {},
     "execution_count": 208
    }
   ],
   "source": [
    "## getting a list of all lemmed and stemmed keywords without stopwords\n",
    "lyrics_wordlist = df_['cleaned_lyrics'].tolist()\n",
    "words_list = []\n",
    "for i in lyrics_wordlist:\n",
    "    words_list.extend(i)\n",
    "len(words_list)"
   ]
  },
  {
   "cell_type": "code",
   "execution_count": 209,
   "metadata": {},
   "outputs": [
    {
     "output_type": "execute_result",
     "data": {
      "text/plain": [
       "           word  count\n",
       "0            im  15249\n",
       "214        yeah   9620\n",
       "40         dont   8962\n",
       "33         love   6381\n",
       "34         babi   4687\n",
       "...         ...    ...\n",
       "23310      børn      1\n",
       "23307      lore      1\n",
       "23306      yoke      1\n",
       "23305      esso      1\n",
       "38878  arroparm      1\n",
       "\n",
       "[38879 rows x 2 columns]"
      ],
      "text/html": "<div>\n<style scoped>\n    .dataframe tbody tr th:only-of-type {\n        vertical-align: middle;\n    }\n\n    .dataframe tbody tr th {\n        vertical-align: top;\n    }\n\n    .dataframe thead th {\n        text-align: right;\n    }\n</style>\n<table border=\"1\" class=\"dataframe\">\n  <thead>\n    <tr style=\"text-align: right;\">\n      <th></th>\n      <th>word</th>\n      <th>count</th>\n    </tr>\n  </thead>\n  <tbody>\n    <tr>\n      <th>0</th>\n      <td>im</td>\n      <td>15249</td>\n    </tr>\n    <tr>\n      <th>214</th>\n      <td>yeah</td>\n      <td>9620</td>\n    </tr>\n    <tr>\n      <th>40</th>\n      <td>dont</td>\n      <td>8962</td>\n    </tr>\n    <tr>\n      <th>33</th>\n      <td>love</td>\n      <td>6381</td>\n    </tr>\n    <tr>\n      <th>34</th>\n      <td>babi</td>\n      <td>4687</td>\n    </tr>\n    <tr>\n      <th>...</th>\n      <td>...</td>\n      <td>...</td>\n    </tr>\n    <tr>\n      <th>23310</th>\n      <td>børn</td>\n      <td>1</td>\n    </tr>\n    <tr>\n      <th>23307</th>\n      <td>lore</td>\n      <td>1</td>\n    </tr>\n    <tr>\n      <th>23306</th>\n      <td>yoke</td>\n      <td>1</td>\n    </tr>\n    <tr>\n      <th>23305</th>\n      <td>esso</td>\n      <td>1</td>\n    </tr>\n    <tr>\n      <th>38878</th>\n      <td>arroparm</td>\n      <td>1</td>\n    </tr>\n  </tbody>\n</table>\n<p>38879 rows × 2 columns</p>\n</div>"
     },
     "metadata": {},
     "execution_count": 209
    }
   ],
   "source": [
    "# Creating a DataFrame of the Word Counts\n",
    "lyric_word_frequencies = pd.DataFrame.from_dict(Counter(words_list), orient = 'index').reset_index()\n",
    "lyric_word_frequencies = lyric_word_frequencies.rename(columns={'index':'word', 0:'count'})\n",
    "lyric_word_frequencies = lyric_word_frequencies.sort_values(by = \"count\", ascending = False)\n",
    "lyric_word_frequencies"
   ]
  },
  {
   "cell_type": "code",
   "execution_count": 210,
   "metadata": {},
   "outputs": [
    {
     "output_type": "execute_result",
     "data": {
      "text/plain": [
       "       word  count\n",
       "0        im  15249\n",
       "214    yeah   9620\n",
       "40     dont   8962\n",
       "33     love   6381\n",
       "34     babi   4687\n",
       "52    nigga   4462\n",
       "19    bitch   3959\n",
       "134    aint   3938\n",
       "250   wanna   3580\n",
       "247    feel   3389\n",
       "115    your   3303\n",
       "506    fuck   3175\n",
       "298    shit   2655\n",
       "253     ill   2198\n",
       "91     girl   2135\n",
       "620      pa   2083\n",
       "8736    ich   1954\n",
       "157   night   1850\n",
       "163    life   1783\n",
       "114    call   1752"
      ],
      "text/html": "<div>\n<style scoped>\n    .dataframe tbody tr th:only-of-type {\n        vertical-align: middle;\n    }\n\n    .dataframe tbody tr th {\n        vertical-align: top;\n    }\n\n    .dataframe thead th {\n        text-align: right;\n    }\n</style>\n<table border=\"1\" class=\"dataframe\">\n  <thead>\n    <tr style=\"text-align: right;\">\n      <th></th>\n      <th>word</th>\n      <th>count</th>\n    </tr>\n  </thead>\n  <tbody>\n    <tr>\n      <th>0</th>\n      <td>im</td>\n      <td>15249</td>\n    </tr>\n    <tr>\n      <th>214</th>\n      <td>yeah</td>\n      <td>9620</td>\n    </tr>\n    <tr>\n      <th>40</th>\n      <td>dont</td>\n      <td>8962</td>\n    </tr>\n    <tr>\n      <th>33</th>\n      <td>love</td>\n      <td>6381</td>\n    </tr>\n    <tr>\n      <th>34</th>\n      <td>babi</td>\n      <td>4687</td>\n    </tr>\n    <tr>\n      <th>52</th>\n      <td>nigga</td>\n      <td>4462</td>\n    </tr>\n    <tr>\n      <th>19</th>\n      <td>bitch</td>\n      <td>3959</td>\n    </tr>\n    <tr>\n      <th>134</th>\n      <td>aint</td>\n      <td>3938</td>\n    </tr>\n    <tr>\n      <th>250</th>\n      <td>wanna</td>\n      <td>3580</td>\n    </tr>\n    <tr>\n      <th>247</th>\n      <td>feel</td>\n      <td>3389</td>\n    </tr>\n    <tr>\n      <th>115</th>\n      <td>your</td>\n      <td>3303</td>\n    </tr>\n    <tr>\n      <th>506</th>\n      <td>fuck</td>\n      <td>3175</td>\n    </tr>\n    <tr>\n      <th>298</th>\n      <td>shit</td>\n      <td>2655</td>\n    </tr>\n    <tr>\n      <th>253</th>\n      <td>ill</td>\n      <td>2198</td>\n    </tr>\n    <tr>\n      <th>91</th>\n      <td>girl</td>\n      <td>2135</td>\n    </tr>\n    <tr>\n      <th>620</th>\n      <td>pa</td>\n      <td>2083</td>\n    </tr>\n    <tr>\n      <th>8736</th>\n      <td>ich</td>\n      <td>1954</td>\n    </tr>\n    <tr>\n      <th>157</th>\n      <td>night</td>\n      <td>1850</td>\n    </tr>\n    <tr>\n      <th>163</th>\n      <td>life</td>\n      <td>1783</td>\n    </tr>\n    <tr>\n      <th>114</th>\n      <td>call</td>\n      <td>1752</td>\n    </tr>\n  </tbody>\n</table>\n</div>"
     },
     "metadata": {},
     "execution_count": 210
    }
   ],
   "source": [
    "lyric_word_frequencies.head(20)"
   ]
  },
  {
   "cell_type": "code",
   "execution_count": 211,
   "metadata": {},
   "outputs": [],
   "source": [
    "lyric_word_frequencies.to_csv('cleaned_data/lyric_word_frequencies.csv', index = False)"
   ]
  },
  {
   "cell_type": "code",
   "execution_count": 212,
   "metadata": {},
   "outputs": [
    {
     "output_type": "execute_result",
     "data": {
      "text/plain": [
       "         word  count\n",
       "0          im  15249\n",
       "214      yeah   9620\n",
       "40       dont   8962\n",
       "33       love   6381\n",
       "34       babi   4687\n",
       "...       ...    ...\n",
       "456    fuckin    673\n",
       "306     chang    667\n",
       "723   diamond    653\n",
       "1202       má    645\n",
       "136      left    643\n",
       "\n",
       "[100 rows x 2 columns]"
      ],
      "text/html": "<div>\n<style scoped>\n    .dataframe tbody tr th:only-of-type {\n        vertical-align: middle;\n    }\n\n    .dataframe tbody tr th {\n        vertical-align: top;\n    }\n\n    .dataframe thead th {\n        text-align: right;\n    }\n</style>\n<table border=\"1\" class=\"dataframe\">\n  <thead>\n    <tr style=\"text-align: right;\">\n      <th></th>\n      <th>word</th>\n      <th>count</th>\n    </tr>\n  </thead>\n  <tbody>\n    <tr>\n      <th>0</th>\n      <td>im</td>\n      <td>15249</td>\n    </tr>\n    <tr>\n      <th>214</th>\n      <td>yeah</td>\n      <td>9620</td>\n    </tr>\n    <tr>\n      <th>40</th>\n      <td>dont</td>\n      <td>8962</td>\n    </tr>\n    <tr>\n      <th>33</th>\n      <td>love</td>\n      <td>6381</td>\n    </tr>\n    <tr>\n      <th>34</th>\n      <td>babi</td>\n      <td>4687</td>\n    </tr>\n    <tr>\n      <th>...</th>\n      <td>...</td>\n      <td>...</td>\n    </tr>\n    <tr>\n      <th>456</th>\n      <td>fuckin</td>\n      <td>673</td>\n    </tr>\n    <tr>\n      <th>306</th>\n      <td>chang</td>\n      <td>667</td>\n    </tr>\n    <tr>\n      <th>723</th>\n      <td>diamond</td>\n      <td>653</td>\n    </tr>\n    <tr>\n      <th>1202</th>\n      <td>má</td>\n      <td>645</td>\n    </tr>\n    <tr>\n      <th>136</th>\n      <td>left</td>\n      <td>643</td>\n    </tr>\n  </tbody>\n</table>\n<p>100 rows × 2 columns</p>\n</div>"
     },
     "metadata": {},
     "execution_count": 212
    }
   ],
   "source": [
    "top_100 = lyric_word_frequencies[:100]\n",
    "top_100"
   ]
  },
  {
   "source": [
    "## Top Words by Genre"
   ],
   "cell_type": "markdown",
   "metadata": {}
  },
  {
   "cell_type": "code",
   "execution_count": 213,
   "metadata": {},
   "outputs": [
    {
     "output_type": "execute_result",
     "data": {
      "text/plain": [
       "array(['r-b', 'pop', 'rap', 'rock', 'non-music', 'country', 'm'],\n",
       "      dtype=object)"
      ]
     },
     "metadata": {},
     "execution_count": 213
    }
   ],
   "source": [
    "pd.Series(genres_list).unique()"
   ]
  },
  {
   "cell_type": "code",
   "execution_count": 214,
   "metadata": {},
   "outputs": [],
   "source": [
    "pop = df_[df_['pop'] == 1]\n",
    "rb = df_[df_['rb'] == 1]\n",
    "rap = df_[df_['rap'] == 1]\n",
    "rock = df_[df_['rock'] == 1]\n",
    "country = df_[df_['country'] == 1]\n",
    "m = df_[df_['no_genre'] == 1]"
   ]
  },
  {
   "cell_type": "code",
   "execution_count": 215,
   "metadata": {},
   "outputs": [],
   "source": [
    "def top_lyrics(df, dfname):\n",
    "    '''Function to find the top lyric unigrams based on a df containing lyrics'''\n",
    "    ## getting a list of all lemmed and stemmed keywords without stopwords\n",
    "    lyrics_wordlist = df['cleaned_lyrics'].tolist()\n",
    "    words_list = []\n",
    "    for i in lyrics_wordlist:\n",
    "        words_list.extend(i)\n",
    "    len(words_list)\n",
    "    # Creating a DataFrame of the Word Counts\n",
    "    lyric_word_frequencies = pd.DataFrame.from_dict(Counter(words_list), orient = 'index').reset_index()\n",
    "    lyric_word_frequencies = lyric_word_frequencies.rename(columns={'index':'word', 0:'count'})\n",
    "    lyric_word_frequencies = lyric_word_frequencies.sort_values(by = \"count\", ascending = False)\n",
    "    lyric_word_frequencies['genre'] = dfname\n",
    "    return lyric_word_frequencies"
   ]
  },
  {
   "cell_type": "code",
   "execution_count": 216,
   "metadata": {},
   "outputs": [
    {
     "output_type": "execute_result",
     "data": {
      "text/plain": [
       "      word  count genre\n",
       "0       im   2541   r-b\n",
       "40    dont   1932   r-b\n",
       "145   yeah   1915   r-b\n",
       "33    love   1532   r-b\n",
       "34    babi   1044   r-b\n",
       "175   your    760   r-b\n",
       "109   feel    703   r-b\n",
       "113  wanna    698   r-b\n",
       "138   aint    681   r-b\n",
       "91    girl    664   r-b\n",
       "116    ill    478   r-b\n",
       "111  night    474   r-b\n",
       "223   fuck    438   r-b\n",
       "127   life    395   r-b\n",
       "189  gotta    364   r-b"
      ],
      "text/html": "<div>\n<style scoped>\n    .dataframe tbody tr th:only-of-type {\n        vertical-align: middle;\n    }\n\n    .dataframe tbody tr th {\n        vertical-align: top;\n    }\n\n    .dataframe thead th {\n        text-align: right;\n    }\n</style>\n<table border=\"1\" class=\"dataframe\">\n  <thead>\n    <tr style=\"text-align: right;\">\n      <th></th>\n      <th>word</th>\n      <th>count</th>\n      <th>genre</th>\n    </tr>\n  </thead>\n  <tbody>\n    <tr>\n      <th>0</th>\n      <td>im</td>\n      <td>2541</td>\n      <td>r-b</td>\n    </tr>\n    <tr>\n      <th>40</th>\n      <td>dont</td>\n      <td>1932</td>\n      <td>r-b</td>\n    </tr>\n    <tr>\n      <th>145</th>\n      <td>yeah</td>\n      <td>1915</td>\n      <td>r-b</td>\n    </tr>\n    <tr>\n      <th>33</th>\n      <td>love</td>\n      <td>1532</td>\n      <td>r-b</td>\n    </tr>\n    <tr>\n      <th>34</th>\n      <td>babi</td>\n      <td>1044</td>\n      <td>r-b</td>\n    </tr>\n    <tr>\n      <th>175</th>\n      <td>your</td>\n      <td>760</td>\n      <td>r-b</td>\n    </tr>\n    <tr>\n      <th>109</th>\n      <td>feel</td>\n      <td>703</td>\n      <td>r-b</td>\n    </tr>\n    <tr>\n      <th>113</th>\n      <td>wanna</td>\n      <td>698</td>\n      <td>r-b</td>\n    </tr>\n    <tr>\n      <th>138</th>\n      <td>aint</td>\n      <td>681</td>\n      <td>r-b</td>\n    </tr>\n    <tr>\n      <th>91</th>\n      <td>girl</td>\n      <td>664</td>\n      <td>r-b</td>\n    </tr>\n    <tr>\n      <th>116</th>\n      <td>ill</td>\n      <td>478</td>\n      <td>r-b</td>\n    </tr>\n    <tr>\n      <th>111</th>\n      <td>night</td>\n      <td>474</td>\n      <td>r-b</td>\n    </tr>\n    <tr>\n      <th>223</th>\n      <td>fuck</td>\n      <td>438</td>\n      <td>r-b</td>\n    </tr>\n    <tr>\n      <th>127</th>\n      <td>life</td>\n      <td>395</td>\n      <td>r-b</td>\n    </tr>\n    <tr>\n      <th>189</th>\n      <td>gotta</td>\n      <td>364</td>\n      <td>r-b</td>\n    </tr>\n  </tbody>\n</table>\n</div>"
     },
     "metadata": {},
     "execution_count": 216
    }
   ],
   "source": [
    "rb_lyrics = top_lyrics(rb, 'r-b')[:15]\n",
    "rb_lyrics"
   ]
  },
  {
   "cell_type": "code",
   "execution_count": 217,
   "metadata": {},
   "outputs": [],
   "source": [
    "pop_lyrics = top_lyrics(pop, 'pop')[:15]"
   ]
  },
  {
   "cell_type": "code",
   "execution_count": 218,
   "metadata": {},
   "outputs": [],
   "source": [
    "country_lyrics = top_lyrics(country, 'country')[:15]"
   ]
  },
  {
   "cell_type": "code",
   "execution_count": 219,
   "metadata": {},
   "outputs": [],
   "source": [
    "rock_lyrics = top_lyrics(rock, 'rock')[:15]"
   ]
  },
  {
   "cell_type": "code",
   "execution_count": 220,
   "metadata": {},
   "outputs": [],
   "source": [
    "rap_lyrics = top_lyrics(rap, 'rap')[:15]"
   ]
  },
  {
   "cell_type": "code",
   "execution_count": 232,
   "metadata": {},
   "outputs": [
    {
     "output_type": "execute_result",
     "data": {
      "text/plain": [
       "      word  count genre\n",
       "0       im   7016   pop\n",
       "40    dont   4766   pop\n",
       "33    love   4693   pop\n",
       "214   yeah   4178   pop\n",
       "34    babi   3043   pop\n",
       "..     ...    ...   ...\n",
       "116    ill    478   r-b\n",
       "111  night    474   r-b\n",
       "223   fuck    438   r-b\n",
       "127   life    395   r-b\n",
       "189  gotta    364   r-b\n",
       "\n",
       "[75 rows x 3 columns]"
      ],
      "text/html": "<div>\n<style scoped>\n    .dataframe tbody tr th:only-of-type {\n        vertical-align: middle;\n    }\n\n    .dataframe tbody tr th {\n        vertical-align: top;\n    }\n\n    .dataframe thead th {\n        text-align: right;\n    }\n</style>\n<table border=\"1\" class=\"dataframe\">\n  <thead>\n    <tr style=\"text-align: right;\">\n      <th></th>\n      <th>word</th>\n      <th>count</th>\n      <th>genre</th>\n    </tr>\n  </thead>\n  <tbody>\n    <tr>\n      <th>0</th>\n      <td>im</td>\n      <td>7016</td>\n      <td>pop</td>\n    </tr>\n    <tr>\n      <th>40</th>\n      <td>dont</td>\n      <td>4766</td>\n      <td>pop</td>\n    </tr>\n    <tr>\n      <th>33</th>\n      <td>love</td>\n      <td>4693</td>\n      <td>pop</td>\n    </tr>\n    <tr>\n      <th>214</th>\n      <td>yeah</td>\n      <td>4178</td>\n      <td>pop</td>\n    </tr>\n    <tr>\n      <th>34</th>\n      <td>babi</td>\n      <td>3043</td>\n      <td>pop</td>\n    </tr>\n    <tr>\n      <th>...</th>\n      <td>...</td>\n      <td>...</td>\n      <td>...</td>\n    </tr>\n    <tr>\n      <th>116</th>\n      <td>ill</td>\n      <td>478</td>\n      <td>r-b</td>\n    </tr>\n    <tr>\n      <th>111</th>\n      <td>night</td>\n      <td>474</td>\n      <td>r-b</td>\n    </tr>\n    <tr>\n      <th>223</th>\n      <td>fuck</td>\n      <td>438</td>\n      <td>r-b</td>\n    </tr>\n    <tr>\n      <th>127</th>\n      <td>life</td>\n      <td>395</td>\n      <td>r-b</td>\n    </tr>\n    <tr>\n      <th>189</th>\n      <td>gotta</td>\n      <td>364</td>\n      <td>r-b</td>\n    </tr>\n  </tbody>\n</table>\n<p>75 rows × 3 columns</p>\n</div>"
     },
     "metadata": {},
     "execution_count": 232
    }
   ],
   "source": [
    "full_lyrics = pd.concat([pop_lyrics,country_lyrics,rock_lyrics,rap_lyrics,rb_lyrics])\n",
    "full_lyrics"
   ]
  },
  {
   "cell_type": "code",
   "execution_count": 233,
   "metadata": {},
   "outputs": [],
   "source": [
    "full_lyrics.to_csv('cleaned_data/lyric_frequencies/top15_all_genres_lyric_frequencies.csv', index = False)"
   ]
  },
  {
   "source": [
    "## Top Songs By Genre "
   ],
   "cell_type": "markdown",
   "metadata": {}
  },
  {
   "source": [
    "I forgot to get the top songs by genre streams so I am re importing the top 200 files and the previously created OHE (one-hot-encoded) df to create a new df with the streams"
   ],
   "cell_type": "markdown",
   "metadata": {}
  },
  {
   "cell_type": "code",
   "execution_count": 223,
   "metadata": {},
   "outputs": [
    {
     "output_type": "execute_result",
     "data": {
      "text/plain": [
       "                        artist  \\\n",
       "0        The Weeknd, Daft Punk   \n",
       "1     The Chainsmokers, Halsey   \n",
       "2                 Clean Bandit   \n",
       "3      DJ Snake, Justin Bieber   \n",
       "4           ZAYN, Taylor Swift   \n",
       "...                        ...   \n",
       "3409             Sfera Ebbasta   \n",
       "3410           Trio Vegabajeño   \n",
       "3411           Camilo, El Alfa   \n",
       "3412              Taylor Swift   \n",
       "3413               Bing Crosby   \n",
       "\n",
       "                                                  track     genius_artist  \\\n",
       "0                                               Starboy        The weeknd   \n",
       "1                                                Closer  The chainsmokers   \n",
       "2               Rockabye (feat. Sean Paul & Anne-Marie)      Clean bandit   \n",
       "3                                       Let Me Love You          Dj snake   \n",
       "4     I Don’t Wanna Live Forever (Fifty Shades Darke...              Zayn   \n",
       "...                                                 ...               ...   \n",
       "3409                            Hollywood (feat. Diplo)     Sfera ebbasta   \n",
       "3410                                CANTARES DE NAVIDAD   Trio vegabajeno   \n",
       "3411                                               BEBÉ            Camilo   \n",
       "3412                                   long story short      Taylor swift   \n",
       "3413         Do You Hear What I Hear? - Remastered 2006       Bing crosby   \n",
       "\n",
       "                   genius_track  \\\n",
       "0                       Starboy   \n",
       "1                        Closer   \n",
       "2                      Rockabye   \n",
       "3               Let me love you   \n",
       "4     I dont wanna live forever   \n",
       "...                         ...   \n",
       "3409                  Hollywood   \n",
       "3410        Cantares de navidad   \n",
       "3411                       Bebe   \n",
       "3412           Long story short   \n",
       "3413    Do you hear what i hear   \n",
       "\n",
       "                                                 lyrics           genre  pop  \\\n",
       "0        I'm tryna put you in the worst mood, ah P1 ...  ['r-b', 'pop']    1   \n",
       "1        Hey, I was doing just fine before I met you...         ['pop']    1   \n",
       "2        Call it love and devotion Call it a mom's a...         ['pop']    1   \n",
       "3        I used to believe We were burnin' on the ed...         ['pop']    1   \n",
       "4        Been sitting eyes wide open behind these fo...  ['r-b', 'pop']    1   \n",
       "...                                                 ...             ...  ...   \n",
       "3409       La mia ex mi scrive Mi dice che le manco ...         ['pop']    1   \n",
       "3410       Navidad que vuelve, tradición del año Uno...         ['pop']    1   \n",
       "3411       Un, dos, tres y   El la'o de tu cama que ...         ['pop']    1   \n",
       "3412                                     missing lyrics           ['m']    0   \n",
       "3413    Do you hear what I hear?  Said the night win...         ['pop']    1   \n",
       "\n",
       "      rb  rap  rock  non-music  country  no_genre  max_streams  \\\n",
       "0      1    0     0          0        0         0      9250373   \n",
       "1      0    0     0          0        0         0      9523724   \n",
       "2      0    0     0          0        0         0      8222348   \n",
       "3      0    0     0          0        0         0      9956379   \n",
       "4      1    0     0          0        0         0      9800858   \n",
       "...   ..  ...   ...        ...      ...       ...          ...   \n",
       "3409   0    0     0          0        0         0      4920218   \n",
       "3410   0    0     0          0        0         0      5842320   \n",
       "3411   0    0     0          0        0         0      9082260   \n",
       "3412   0    0     0          0        0         1     13583538   \n",
       "3413   0    0     0          0        0         0      7149158   \n",
       "\n",
       "                                           spotify_link  \n",
       "0     https://open.spotify.com/track/7MXVkk9YMctZqd1...  \n",
       "1     https://open.spotify.com/track/7BKLCZ1jbUBVqRi...  \n",
       "2     https://open.spotify.com/track/5knuzwU65gJK7IF...  \n",
       "3     https://open.spotify.com/track/4pdPtRcBmOSQDlJ...  \n",
       "4     https://open.spotify.com/track/3NdDpSvN911VPGi...  \n",
       "...                                                 ...  \n",
       "3409  https://open.spotify.com/track/4CvW0iHAs7yJhbp...  \n",
       "3410  https://open.spotify.com/track/2Iv6YBslkxslMJQ...  \n",
       "3411  https://open.spotify.com/track/7D7EH7MGyNHWSkq...  \n",
       "3412  https://open.spotify.com/track/0vVMlbdYx2080Oa...  \n",
       "3413  https://open.spotify.com/track/35z5xJpu76nakf6...  \n",
       "\n",
       "[3414 rows x 15 columns]"
      ],
      "text/html": "<div>\n<style scoped>\n    .dataframe tbody tr th:only-of-type {\n        vertical-align: middle;\n    }\n\n    .dataframe tbody tr th {\n        vertical-align: top;\n    }\n\n    .dataframe thead th {\n        text-align: right;\n    }\n</style>\n<table border=\"1\" class=\"dataframe\">\n  <thead>\n    <tr style=\"text-align: right;\">\n      <th></th>\n      <th>artist</th>\n      <th>track</th>\n      <th>genius_artist</th>\n      <th>genius_track</th>\n      <th>lyrics</th>\n      <th>genre</th>\n      <th>pop</th>\n      <th>rb</th>\n      <th>rap</th>\n      <th>rock</th>\n      <th>non-music</th>\n      <th>country</th>\n      <th>no_genre</th>\n      <th>max_streams</th>\n      <th>spotify_link</th>\n    </tr>\n  </thead>\n  <tbody>\n    <tr>\n      <th>0</th>\n      <td>The Weeknd, Daft Punk</td>\n      <td>Starboy</td>\n      <td>The weeknd</td>\n      <td>Starboy</td>\n      <td>I'm tryna put you in the worst mood, ah P1 ...</td>\n      <td>['r-b', 'pop']</td>\n      <td>1</td>\n      <td>1</td>\n      <td>0</td>\n      <td>0</td>\n      <td>0</td>\n      <td>0</td>\n      <td>0</td>\n      <td>9250373</td>\n      <td>https://open.spotify.com/track/7MXVkk9YMctZqd1...</td>\n    </tr>\n    <tr>\n      <th>1</th>\n      <td>The Chainsmokers, Halsey</td>\n      <td>Closer</td>\n      <td>The chainsmokers</td>\n      <td>Closer</td>\n      <td>Hey, I was doing just fine before I met you...</td>\n      <td>['pop']</td>\n      <td>1</td>\n      <td>0</td>\n      <td>0</td>\n      <td>0</td>\n      <td>0</td>\n      <td>0</td>\n      <td>0</td>\n      <td>9523724</td>\n      <td>https://open.spotify.com/track/7BKLCZ1jbUBVqRi...</td>\n    </tr>\n    <tr>\n      <th>2</th>\n      <td>Clean Bandit</td>\n      <td>Rockabye (feat. Sean Paul &amp; Anne-Marie)</td>\n      <td>Clean bandit</td>\n      <td>Rockabye</td>\n      <td>Call it love and devotion Call it a mom's a...</td>\n      <td>['pop']</td>\n      <td>1</td>\n      <td>0</td>\n      <td>0</td>\n      <td>0</td>\n      <td>0</td>\n      <td>0</td>\n      <td>0</td>\n      <td>8222348</td>\n      <td>https://open.spotify.com/track/5knuzwU65gJK7IF...</td>\n    </tr>\n    <tr>\n      <th>3</th>\n      <td>DJ Snake, Justin Bieber</td>\n      <td>Let Me Love You</td>\n      <td>Dj snake</td>\n      <td>Let me love you</td>\n      <td>I used to believe We were burnin' on the ed...</td>\n      <td>['pop']</td>\n      <td>1</td>\n      <td>0</td>\n      <td>0</td>\n      <td>0</td>\n      <td>0</td>\n      <td>0</td>\n      <td>0</td>\n      <td>9956379</td>\n      <td>https://open.spotify.com/track/4pdPtRcBmOSQDlJ...</td>\n    </tr>\n    <tr>\n      <th>4</th>\n      <td>ZAYN, Taylor Swift</td>\n      <td>I Don’t Wanna Live Forever (Fifty Shades Darke...</td>\n      <td>Zayn</td>\n      <td>I dont wanna live forever</td>\n      <td>Been sitting eyes wide open behind these fo...</td>\n      <td>['r-b', 'pop']</td>\n      <td>1</td>\n      <td>1</td>\n      <td>0</td>\n      <td>0</td>\n      <td>0</td>\n      <td>0</td>\n      <td>0</td>\n      <td>9800858</td>\n      <td>https://open.spotify.com/track/3NdDpSvN911VPGi...</td>\n    </tr>\n    <tr>\n      <th>...</th>\n      <td>...</td>\n      <td>...</td>\n      <td>...</td>\n      <td>...</td>\n      <td>...</td>\n      <td>...</td>\n      <td>...</td>\n      <td>...</td>\n      <td>...</td>\n      <td>...</td>\n      <td>...</td>\n      <td>...</td>\n      <td>...</td>\n      <td>...</td>\n      <td>...</td>\n    </tr>\n    <tr>\n      <th>3409</th>\n      <td>Sfera Ebbasta</td>\n      <td>Hollywood (feat. Diplo)</td>\n      <td>Sfera ebbasta</td>\n      <td>Hollywood</td>\n      <td>La mia ex mi scrive Mi dice che le manco ...</td>\n      <td>['pop']</td>\n      <td>1</td>\n      <td>0</td>\n      <td>0</td>\n      <td>0</td>\n      <td>0</td>\n      <td>0</td>\n      <td>0</td>\n      <td>4920218</td>\n      <td>https://open.spotify.com/track/4CvW0iHAs7yJhbp...</td>\n    </tr>\n    <tr>\n      <th>3410</th>\n      <td>Trio Vegabajeño</td>\n      <td>CANTARES DE NAVIDAD</td>\n      <td>Trio vegabajeno</td>\n      <td>Cantares de navidad</td>\n      <td>Navidad que vuelve, tradición del año Uno...</td>\n      <td>['pop']</td>\n      <td>1</td>\n      <td>0</td>\n      <td>0</td>\n      <td>0</td>\n      <td>0</td>\n      <td>0</td>\n      <td>0</td>\n      <td>5842320</td>\n      <td>https://open.spotify.com/track/2Iv6YBslkxslMJQ...</td>\n    </tr>\n    <tr>\n      <th>3411</th>\n      <td>Camilo, El Alfa</td>\n      <td>BEBÉ</td>\n      <td>Camilo</td>\n      <td>Bebe</td>\n      <td>Un, dos, tres y   El la'o de tu cama que ...</td>\n      <td>['pop']</td>\n      <td>1</td>\n      <td>0</td>\n      <td>0</td>\n      <td>0</td>\n      <td>0</td>\n      <td>0</td>\n      <td>0</td>\n      <td>9082260</td>\n      <td>https://open.spotify.com/track/7D7EH7MGyNHWSkq...</td>\n    </tr>\n    <tr>\n      <th>3412</th>\n      <td>Taylor Swift</td>\n      <td>long story short</td>\n      <td>Taylor swift</td>\n      <td>Long story short</td>\n      <td>missing lyrics</td>\n      <td>['m']</td>\n      <td>0</td>\n      <td>0</td>\n      <td>0</td>\n      <td>0</td>\n      <td>0</td>\n      <td>0</td>\n      <td>1</td>\n      <td>13583538</td>\n      <td>https://open.spotify.com/track/0vVMlbdYx2080Oa...</td>\n    </tr>\n    <tr>\n      <th>3413</th>\n      <td>Bing Crosby</td>\n      <td>Do You Hear What I Hear? - Remastered 2006</td>\n      <td>Bing crosby</td>\n      <td>Do you hear what i hear</td>\n      <td>Do you hear what I hear?  Said the night win...</td>\n      <td>['pop']</td>\n      <td>1</td>\n      <td>0</td>\n      <td>0</td>\n      <td>0</td>\n      <td>0</td>\n      <td>0</td>\n      <td>0</td>\n      <td>7149158</td>\n      <td>https://open.spotify.com/track/35z5xJpu76nakf6...</td>\n    </tr>\n  </tbody>\n</table>\n<p>3414 rows × 15 columns</p>\n</div>"
     },
     "metadata": {},
     "execution_count": 223
    }
   ],
   "source": [
    "## OTHER MISC DATA CLEANING \n",
    "df1 = pd.read_csv('/Users/daphneyang/Desktop/5YMIDS_SP21/w209/spotify-visualizations/cleaned_data/2017_weekly_all_locations_top200.csv')\n",
    "df2 = pd.read_csv('/Users/daphneyang/Desktop/5YMIDS_SP21/w209/spotify-visualizations/cleaned_data/2018_weekly_all_locations_top200.csv')\n",
    "df3 = pd.read_csv('/Users/daphneyang/Desktop/5YMIDS_SP21/w209/spotify-visualizations/cleaned_data/2019_weekly_all_locations_top200.csv')\n",
    "df4 = pd.read_csv('/Users/daphneyang/Desktop/5YMIDS_SP21/w209/spotify-visualizations/cleaned_data/2020_weekly_all_locations_top200.csv')\n",
    "df = pd.concat([df1, df2, df3, df4])\n",
    "global_df = df[df['country_chart'].str.contains(\"Global\")]\n",
    "global_df_max = global_df.groupby([\"track\"]).max().reset_index()[['track','streams', 'spotify_link']]\n",
    "lyrics_df = pd.read_csv('/Users/daphneyang/Desktop/5YMIDS_SP21/w209/spotify-visualizations/cleaned_data/OHE_all_top_songs.csv')\n",
    "merged_df = pd.merge(lyrics_df, global_df_max, \"inner\", on = \"track\")\n",
    "merged_df['streams'] = merged_df['streams'].str.replace(\",\", '').astype(int)\n",
    "merged_df = merged_df.rename(columns={'streams': \"max_streams\"})\n",
    "merged_df"
   ]
  },
  {
   "cell_type": "code",
   "execution_count": 230,
   "metadata": {},
   "outputs": [],
   "source": [
    "pop = merged_df[merged_df['pop'] == 1][['track', 'artist', 'max_streams', 'spotify_link']].reset_index(drop=True).sort_values(by=['max_streams'], ascending = False)[:10]\n",
    "pop['genre'] = 'pop'\n",
    "rb = merged_df[merged_df['rb'] == 1][['track', 'artist', 'max_streams', 'spotify_link']].reset_index(drop=True).sort_values(by=['max_streams'], ascending = False)[:10]\n",
    "rb['genre'] = 'r-b'\n",
    "rap = merged_df[merged_df['rap'] == 1][['track', 'artist', 'max_streams', 'spotify_link']].reset_index(drop=True).sort_values(by=['max_streams'], ascending = False)[:10]\n",
    "rap['genre'] = 'rap'\n",
    "rock = merged_df[merged_df['rock'] == 1][['track', 'artist', 'max_streams', 'spotify_link']].reset_index(drop=True).sort_values(by=['max_streams'], ascending = False)[:10]\n",
    "rock['genre'] = 'rock'\n",
    "country = merged_df[merged_df['country'] == 1][['track', 'artist', 'max_streams', 'spotify_link']].reset_index(drop=True).sort_values(by=['max_streams'], ascending = False)[:10]\n",
    "country['genre'] = 'country'\n",
    "df_output = pd.concat([pop, rb, rap, rock, country])"
   ]
  },
  {
   "cell_type": "code",
   "execution_count": 231,
   "metadata": {},
   "outputs": [],
   "source": [
    "# Change all links to embed links\n",
    "df_output.to_csv('cleaned_data/top10_by_genre_all_time.csv', index = False)"
   ]
  },
  {
   "cell_type": "code",
   "execution_count": 229,
   "metadata": {},
   "outputs": [
    {
     "output_type": "execute_result",
     "data": {
      "text/plain": [
       "                                                  track  \\\n",
       "1678                                             DÁKITI   \n",
       "1039                                    Blinding Lights   \n",
       "436                                            rockstar   \n",
       "1244                                 Don’t Matter To Me   \n",
       "1670                                          positions   \n",
       "1605                             Mood (feat. iann dior)   \n",
       "1613                                           Dynamite   \n",
       "1499                       ROCKSTAR (feat. Roddy Ricch)   \n",
       "1696                                     Therefore I Am   \n",
       "320                                         I'm the One   \n",
       "273                                     Blinding Lights   \n",
       "325                                  Don’t Matter To Me   \n",
       "468                                           positions   \n",
       "77                                          I'm the One   \n",
       "106                         Too Good At Goodbyes - Edit   \n",
       "397                                          Intentions   \n",
       "469                                               34+35   \n",
       "182                                                Talk   \n",
       "484                                         WITHOUT YOU   \n",
       "259                                          Every Hour   \n",
       "233                                            rockstar   \n",
       "1294                    WAP (feat. Megan Thee Stallion)   \n",
       "838                                  Don’t Matter To Me   \n",
       "1161                       ROCKSTAR (feat. Roddy Ricch)   \n",
       "440       Old Town Road (feat. Billy Ray Cyrus) - Remix   \n",
       "158                                         I'm the One   \n",
       "1308          Lemonade (feat. Gunna, Don Toliver & NAV)   \n",
       "1071                                         Intentions   \n",
       "465                                            Homicide   \n",
       "1241            For The Night (feat. Lil Baby & DaBaby)   \n",
       "202              Monster (Shawn Mendes & Justin Bieber)   \n",
       "209   Wonderful Christmastime - Edited Version / Rem...   \n",
       "203                           Prisoner (feat. Dua Lipa)   \n",
       "211                   coney island (feat. The National)   \n",
       "141                                Youth (feat. Khalid)   \n",
       "205                                     MALDITA POBREZA   \n",
       "212                                            marjorie   \n",
       "206                                             TRELLAS   \n",
       "6                   Bohemian Rhapsody - Remastered 2011   \n",
       "80                                              Shallow   \n",
       "36                                       cowboy like me   \n",
       "15                                                Lover   \n",
       "14                                      One Thing Right   \n",
       "13                                                Rodeo   \n",
       "3                                         Unforgettable   \n",
       "9                                      Jingle Bell Rock   \n",
       "20                                                 Stay   \n",
       "6              Meant to Be (feat. Florida Georgia Line)   \n",
       "25                                    You should be sad   \n",
       "16            Soon You’ll Get Better (feat. The Chicks)   \n",
       "\n",
       "                                                 artist  max_streams  \\\n",
       "1678                             Bad Bunny, Jhay Cortez     53344093   \n",
       "1039                                         The Weeknd     52375259   \n",
       "436                              Post Malone, 21 Savage     46995997   \n",
       "1244                             Drake, Michael Jackson     43314851   \n",
       "1670                                      Ariana Grande     41862937   \n",
       "1605                                           24kGoldn     41500977   \n",
       "1613                                                BTS     39904687   \n",
       "1499                                             DaBaby     38506427   \n",
       "1696                                      Billie Eilish     35380663   \n",
       "320   DJ Khaled, Justin Bieber, Quavo, Chance the Ra...     33067187   \n",
       "273                                          The Weeknd     52375259   \n",
       "325                              Drake, Michael Jackson     43314851   \n",
       "468                                       Ariana Grande     41862937   \n",
       "77    DJ Khaled, Justin Bieber, Quavo, Chance the Ra...     33067187   \n",
       "106                                           Sam Smith     30706135   \n",
       "397                                Justin Bieber, Quavo     28509534   \n",
       "469                                       Ariana Grande     26153463   \n",
       "182                                  Khalid, Disclosure     17410486   \n",
       "484                                       The Kid LAROI     16774727   \n",
       "259                    Kanye West, Sunday Service Choir     12900186   \n",
       "233                              Post Malone, 21 Savage     46995997   \n",
       "1294                                            Cardi B     45977242   \n",
       "838                              Drake, Michael Jackson     43314851   \n",
       "1161                                             DaBaby     38506427   \n",
       "440                                           Lil Nas X     36616698   \n",
       "158   DJ Khaled, Justin Bieber, Quavo, Chance the Ra...     33067187   \n",
       "1308                                     Internet Money     30463204   \n",
       "1071                               Justin Bieber, Quavo     28509534   \n",
       "465                                       Logic, Eminem     27894553   \n",
       "1241                                          Pop Smoke     22837971   \n",
       "202                                        Shawn Mendes     28903220   \n",
       "209                                      Paul McCartney     21388515   \n",
       "203                                         Miley Cyrus     21119184   \n",
       "211                                        Taylor Swift     14385703   \n",
       "141                                        Shawn Mendes     13442640   \n",
       "205                                           Bad Bunny     12660806   \n",
       "212                                        Taylor Swift     12234761   \n",
       "206                                           Bad Bunny     10733416   \n",
       "6                                                 Queen      9979997   \n",
       "80                            Lady Gaga, Bradley Cooper      9949217   \n",
       "36                                         Taylor Swift     12782098   \n",
       "15                                         Taylor Swift      9885228   \n",
       "14                               Marshmello, Kane Brown      9851957   \n",
       "13                                   Lil Nas X, Cardi B      9817101   \n",
       "3                                          Thomas Rhett      9806474   \n",
       "9                                           Bobby Helms      9781597   \n",
       "20                                          Post Malone      9632396   \n",
       "6                                            Bebe Rexha      9557969   \n",
       "25                                               Halsey      9526055   \n",
       "16                                         Taylor Swift      9363501   \n",
       "\n",
       "                                           spotify_link    genre  \n",
       "1678  https://open.spotify.com/track/4MzXwWMhyBbmu6h...      pop  \n",
       "1039  https://open.spotify.com/track/0sf12qNH5qcw8qp...      pop  \n",
       "436   https://open.spotify.com/track/7wGoVu4Dady5GV0...      pop  \n",
       "1244  https://open.spotify.com/track/36ONiya0OANYknz...      pop  \n",
       "1670  https://open.spotify.com/track/7igeByaBM0MgGsg...      pop  \n",
       "1605  https://open.spotify.com/track/3tjFYV6RSFtuktY...      pop  \n",
       "1613  https://open.spotify.com/track/4saklk6nie3yiGe...      pop  \n",
       "1499  https://open.spotify.com/track/7ytR5pFWmSjzHJI...      pop  \n",
       "1696  https://open.spotify.com/track/54bFM56PmE4YLRn...      pop  \n",
       "320   https://open.spotify.com/track/72Q0FQQo32KJloi...      pop  \n",
       "273   https://open.spotify.com/track/0sf12qNH5qcw8qp...      r-b  \n",
       "325   https://open.spotify.com/track/36ONiya0OANYknz...      r-b  \n",
       "468   https://open.spotify.com/track/7igeByaBM0MgGsg...      r-b  \n",
       "77    https://open.spotify.com/track/72Q0FQQo32KJloi...      r-b  \n",
       "106   https://open.spotify.com/track/0mel2N9Ws9r4yLQ...      r-b  \n",
       "397   https://open.spotify.com/track/364dI1bYnvamSnB...      r-b  \n",
       "469   https://open.spotify.com/track/6Im9k8u9iIzKMrm...      r-b  \n",
       "182   https://open.spotify.com/track/0rTV5WefWd1J3Ow...      r-b  \n",
       "484   https://open.spotify.com/track/27OeeYzk6klgBh8...      r-b  \n",
       "259   https://open.spotify.com/track/1WnqWQcWcuQbVzg...      r-b  \n",
       "233   https://open.spotify.com/track/7wGoVu4Dady5GV0...      rap  \n",
       "1294  https://open.spotify.com/track/4Oun2ylbjFKMPTi...      rap  \n",
       "838   https://open.spotify.com/track/36ONiya0OANYknz...      rap  \n",
       "1161  https://open.spotify.com/track/7ytR5pFWmSjzHJI...      rap  \n",
       "440   https://open.spotify.com/track/6u7jPi22kF8CTQ3...      rap  \n",
       "158   https://open.spotify.com/track/72Q0FQQo32KJloi...      rap  \n",
       "1308  https://open.spotify.com/track/7hxHWCCAIIxFLCz...      rap  \n",
       "1071  https://open.spotify.com/track/364dI1bYnvamSnB...      rap  \n",
       "465   https://open.spotify.com/track/0Lw6aQcBFWTQ9m4...      rap  \n",
       "1241  https://open.spotify.com/track/0PvFJmanyNQMseI...      rap  \n",
       "202   https://open.spotify.com/track/2Z8yfpFX0ZMavHk...     rock  \n",
       "209   https://open.spotify.com/track/1SV1fxF65n9NhRH...     rock  \n",
       "203   https://open.spotify.com/track/5JqZ3oqF00jkT81...     rock  \n",
       "211   https://open.spotify.com/track/4tyX1rw9X309WkE...     rock  \n",
       "141   https://open.spotify.com/track/3Wf2YGdYT8xVdNs...     rock  \n",
       "205   https://open.spotify.com/track/0Lsis3LB0XAK6Xl...     rock  \n",
       "212   https://open.spotify.com/track/7vBNFh3NIZTj6tB...     rock  \n",
       "206   https://open.spotify.com/track/09WAnxdBuebQopK...     rock  \n",
       "6     https://open.spotify.com/track/7tFiyTwD0nx5a1e...     rock  \n",
       "80    https://open.spotify.com/track/5lK18Pt33xNudq4...     rock  \n",
       "36    https://open.spotify.com/track/1XjHRolIXL2M1EE...  country  \n",
       "15    https://open.spotify.com/track/1dGr1c8CrMLDpV6...  country  \n",
       "14    https://open.spotify.com/track/4hPpVbbakQNv8YT...  country  \n",
       "13    https://open.spotify.com/track/4ak7xjvBeBOcJGW...  country  \n",
       "3     https://open.spotify.com/track/3B54sVLJ402zGa6...  country  \n",
       "9     https://open.spotify.com/track/7vQbuQcyTflfCIO...  country  \n",
       "20    https://open.spotify.com/track/4H7WNRErSbONkM0...  country  \n",
       "6     https://open.spotify.com/track/7iDa6hUg2VgEL1o...  country  \n",
       "25    https://open.spotify.com/track/7lidXGPXPYLNThI...  country  \n",
       "16    https://open.spotify.com/track/4AYtqFyFbX0Xkc2...  country  "
      ],
      "text/html": "<div>\n<style scoped>\n    .dataframe tbody tr th:only-of-type {\n        vertical-align: middle;\n    }\n\n    .dataframe tbody tr th {\n        vertical-align: top;\n    }\n\n    .dataframe thead th {\n        text-align: right;\n    }\n</style>\n<table border=\"1\" class=\"dataframe\">\n  <thead>\n    <tr style=\"text-align: right;\">\n      <th></th>\n      <th>track</th>\n      <th>artist</th>\n      <th>max_streams</th>\n      <th>spotify_link</th>\n      <th>genre</th>\n    </tr>\n  </thead>\n  <tbody>\n    <tr>\n      <th>1678</th>\n      <td>DÁKITI</td>\n      <td>Bad Bunny, Jhay Cortez</td>\n      <td>53344093</td>\n      <td>https://open.spotify.com/track/4MzXwWMhyBbmu6h...</td>\n      <td>pop</td>\n    </tr>\n    <tr>\n      <th>1039</th>\n      <td>Blinding Lights</td>\n      <td>The Weeknd</td>\n      <td>52375259</td>\n      <td>https://open.spotify.com/track/0sf12qNH5qcw8qp...</td>\n      <td>pop</td>\n    </tr>\n    <tr>\n      <th>436</th>\n      <td>rockstar</td>\n      <td>Post Malone, 21 Savage</td>\n      <td>46995997</td>\n      <td>https://open.spotify.com/track/7wGoVu4Dady5GV0...</td>\n      <td>pop</td>\n    </tr>\n    <tr>\n      <th>1244</th>\n      <td>Don’t Matter To Me</td>\n      <td>Drake, Michael Jackson</td>\n      <td>43314851</td>\n      <td>https://open.spotify.com/track/36ONiya0OANYknz...</td>\n      <td>pop</td>\n    </tr>\n    <tr>\n      <th>1670</th>\n      <td>positions</td>\n      <td>Ariana Grande</td>\n      <td>41862937</td>\n      <td>https://open.spotify.com/track/7igeByaBM0MgGsg...</td>\n      <td>pop</td>\n    </tr>\n    <tr>\n      <th>1605</th>\n      <td>Mood (feat. iann dior)</td>\n      <td>24kGoldn</td>\n      <td>41500977</td>\n      <td>https://open.spotify.com/track/3tjFYV6RSFtuktY...</td>\n      <td>pop</td>\n    </tr>\n    <tr>\n      <th>1613</th>\n      <td>Dynamite</td>\n      <td>BTS</td>\n      <td>39904687</td>\n      <td>https://open.spotify.com/track/4saklk6nie3yiGe...</td>\n      <td>pop</td>\n    </tr>\n    <tr>\n      <th>1499</th>\n      <td>ROCKSTAR (feat. Roddy Ricch)</td>\n      <td>DaBaby</td>\n      <td>38506427</td>\n      <td>https://open.spotify.com/track/7ytR5pFWmSjzHJI...</td>\n      <td>pop</td>\n    </tr>\n    <tr>\n      <th>1696</th>\n      <td>Therefore I Am</td>\n      <td>Billie Eilish</td>\n      <td>35380663</td>\n      <td>https://open.spotify.com/track/54bFM56PmE4YLRn...</td>\n      <td>pop</td>\n    </tr>\n    <tr>\n      <th>320</th>\n      <td>I'm the One</td>\n      <td>DJ Khaled, Justin Bieber, Quavo, Chance the Ra...</td>\n      <td>33067187</td>\n      <td>https://open.spotify.com/track/72Q0FQQo32KJloi...</td>\n      <td>pop</td>\n    </tr>\n    <tr>\n      <th>273</th>\n      <td>Blinding Lights</td>\n      <td>The Weeknd</td>\n      <td>52375259</td>\n      <td>https://open.spotify.com/track/0sf12qNH5qcw8qp...</td>\n      <td>r-b</td>\n    </tr>\n    <tr>\n      <th>325</th>\n      <td>Don’t Matter To Me</td>\n      <td>Drake, Michael Jackson</td>\n      <td>43314851</td>\n      <td>https://open.spotify.com/track/36ONiya0OANYknz...</td>\n      <td>r-b</td>\n    </tr>\n    <tr>\n      <th>468</th>\n      <td>positions</td>\n      <td>Ariana Grande</td>\n      <td>41862937</td>\n      <td>https://open.spotify.com/track/7igeByaBM0MgGsg...</td>\n      <td>r-b</td>\n    </tr>\n    <tr>\n      <th>77</th>\n      <td>I'm the One</td>\n      <td>DJ Khaled, Justin Bieber, Quavo, Chance the Ra...</td>\n      <td>33067187</td>\n      <td>https://open.spotify.com/track/72Q0FQQo32KJloi...</td>\n      <td>r-b</td>\n    </tr>\n    <tr>\n      <th>106</th>\n      <td>Too Good At Goodbyes - Edit</td>\n      <td>Sam Smith</td>\n      <td>30706135</td>\n      <td>https://open.spotify.com/track/0mel2N9Ws9r4yLQ...</td>\n      <td>r-b</td>\n    </tr>\n    <tr>\n      <th>397</th>\n      <td>Intentions</td>\n      <td>Justin Bieber, Quavo</td>\n      <td>28509534</td>\n      <td>https://open.spotify.com/track/364dI1bYnvamSnB...</td>\n      <td>r-b</td>\n    </tr>\n    <tr>\n      <th>469</th>\n      <td>34+35</td>\n      <td>Ariana Grande</td>\n      <td>26153463</td>\n      <td>https://open.spotify.com/track/6Im9k8u9iIzKMrm...</td>\n      <td>r-b</td>\n    </tr>\n    <tr>\n      <th>182</th>\n      <td>Talk</td>\n      <td>Khalid, Disclosure</td>\n      <td>17410486</td>\n      <td>https://open.spotify.com/track/0rTV5WefWd1J3Ow...</td>\n      <td>r-b</td>\n    </tr>\n    <tr>\n      <th>484</th>\n      <td>WITHOUT YOU</td>\n      <td>The Kid LAROI</td>\n      <td>16774727</td>\n      <td>https://open.spotify.com/track/27OeeYzk6klgBh8...</td>\n      <td>r-b</td>\n    </tr>\n    <tr>\n      <th>259</th>\n      <td>Every Hour</td>\n      <td>Kanye West, Sunday Service Choir</td>\n      <td>12900186</td>\n      <td>https://open.spotify.com/track/1WnqWQcWcuQbVzg...</td>\n      <td>r-b</td>\n    </tr>\n    <tr>\n      <th>233</th>\n      <td>rockstar</td>\n      <td>Post Malone, 21 Savage</td>\n      <td>46995997</td>\n      <td>https://open.spotify.com/track/7wGoVu4Dady5GV0...</td>\n      <td>rap</td>\n    </tr>\n    <tr>\n      <th>1294</th>\n      <td>WAP (feat. Megan Thee Stallion)</td>\n      <td>Cardi B</td>\n      <td>45977242</td>\n      <td>https://open.spotify.com/track/4Oun2ylbjFKMPTi...</td>\n      <td>rap</td>\n    </tr>\n    <tr>\n      <th>838</th>\n      <td>Don’t Matter To Me</td>\n      <td>Drake, Michael Jackson</td>\n      <td>43314851</td>\n      <td>https://open.spotify.com/track/36ONiya0OANYknz...</td>\n      <td>rap</td>\n    </tr>\n    <tr>\n      <th>1161</th>\n      <td>ROCKSTAR (feat. Roddy Ricch)</td>\n      <td>DaBaby</td>\n      <td>38506427</td>\n      <td>https://open.spotify.com/track/7ytR5pFWmSjzHJI...</td>\n      <td>rap</td>\n    </tr>\n    <tr>\n      <th>440</th>\n      <td>Old Town Road (feat. Billy Ray Cyrus) - Remix</td>\n      <td>Lil Nas X</td>\n      <td>36616698</td>\n      <td>https://open.spotify.com/track/6u7jPi22kF8CTQ3...</td>\n      <td>rap</td>\n    </tr>\n    <tr>\n      <th>158</th>\n      <td>I'm the One</td>\n      <td>DJ Khaled, Justin Bieber, Quavo, Chance the Ra...</td>\n      <td>33067187</td>\n      <td>https://open.spotify.com/track/72Q0FQQo32KJloi...</td>\n      <td>rap</td>\n    </tr>\n    <tr>\n      <th>1308</th>\n      <td>Lemonade (feat. Gunna, Don Toliver &amp; NAV)</td>\n      <td>Internet Money</td>\n      <td>30463204</td>\n      <td>https://open.spotify.com/track/7hxHWCCAIIxFLCz...</td>\n      <td>rap</td>\n    </tr>\n    <tr>\n      <th>1071</th>\n      <td>Intentions</td>\n      <td>Justin Bieber, Quavo</td>\n      <td>28509534</td>\n      <td>https://open.spotify.com/track/364dI1bYnvamSnB...</td>\n      <td>rap</td>\n    </tr>\n    <tr>\n      <th>465</th>\n      <td>Homicide</td>\n      <td>Logic, Eminem</td>\n      <td>27894553</td>\n      <td>https://open.spotify.com/track/0Lw6aQcBFWTQ9m4...</td>\n      <td>rap</td>\n    </tr>\n    <tr>\n      <th>1241</th>\n      <td>For The Night (feat. Lil Baby &amp; DaBaby)</td>\n      <td>Pop Smoke</td>\n      <td>22837971</td>\n      <td>https://open.spotify.com/track/0PvFJmanyNQMseI...</td>\n      <td>rap</td>\n    </tr>\n    <tr>\n      <th>202</th>\n      <td>Monster (Shawn Mendes &amp; Justin Bieber)</td>\n      <td>Shawn Mendes</td>\n      <td>28903220</td>\n      <td>https://open.spotify.com/track/2Z8yfpFX0ZMavHk...</td>\n      <td>rock</td>\n    </tr>\n    <tr>\n      <th>209</th>\n      <td>Wonderful Christmastime - Edited Version / Rem...</td>\n      <td>Paul McCartney</td>\n      <td>21388515</td>\n      <td>https://open.spotify.com/track/1SV1fxF65n9NhRH...</td>\n      <td>rock</td>\n    </tr>\n    <tr>\n      <th>203</th>\n      <td>Prisoner (feat. Dua Lipa)</td>\n      <td>Miley Cyrus</td>\n      <td>21119184</td>\n      <td>https://open.spotify.com/track/5JqZ3oqF00jkT81...</td>\n      <td>rock</td>\n    </tr>\n    <tr>\n      <th>211</th>\n      <td>coney island (feat. The National)</td>\n      <td>Taylor Swift</td>\n      <td>14385703</td>\n      <td>https://open.spotify.com/track/4tyX1rw9X309WkE...</td>\n      <td>rock</td>\n    </tr>\n    <tr>\n      <th>141</th>\n      <td>Youth (feat. Khalid)</td>\n      <td>Shawn Mendes</td>\n      <td>13442640</td>\n      <td>https://open.spotify.com/track/3Wf2YGdYT8xVdNs...</td>\n      <td>rock</td>\n    </tr>\n    <tr>\n      <th>205</th>\n      <td>MALDITA POBREZA</td>\n      <td>Bad Bunny</td>\n      <td>12660806</td>\n      <td>https://open.spotify.com/track/0Lsis3LB0XAK6Xl...</td>\n      <td>rock</td>\n    </tr>\n    <tr>\n      <th>212</th>\n      <td>marjorie</td>\n      <td>Taylor Swift</td>\n      <td>12234761</td>\n      <td>https://open.spotify.com/track/7vBNFh3NIZTj6tB...</td>\n      <td>rock</td>\n    </tr>\n    <tr>\n      <th>206</th>\n      <td>TRELLAS</td>\n      <td>Bad Bunny</td>\n      <td>10733416</td>\n      <td>https://open.spotify.com/track/09WAnxdBuebQopK...</td>\n      <td>rock</td>\n    </tr>\n    <tr>\n      <th>6</th>\n      <td>Bohemian Rhapsody - Remastered 2011</td>\n      <td>Queen</td>\n      <td>9979997</td>\n      <td>https://open.spotify.com/track/7tFiyTwD0nx5a1e...</td>\n      <td>rock</td>\n    </tr>\n    <tr>\n      <th>80</th>\n      <td>Shallow</td>\n      <td>Lady Gaga, Bradley Cooper</td>\n      <td>9949217</td>\n      <td>https://open.spotify.com/track/5lK18Pt33xNudq4...</td>\n      <td>rock</td>\n    </tr>\n    <tr>\n      <th>36</th>\n      <td>cowboy like me</td>\n      <td>Taylor Swift</td>\n      <td>12782098</td>\n      <td>https://open.spotify.com/track/1XjHRolIXL2M1EE...</td>\n      <td>country</td>\n    </tr>\n    <tr>\n      <th>15</th>\n      <td>Lover</td>\n      <td>Taylor Swift</td>\n      <td>9885228</td>\n      <td>https://open.spotify.com/track/1dGr1c8CrMLDpV6...</td>\n      <td>country</td>\n    </tr>\n    <tr>\n      <th>14</th>\n      <td>One Thing Right</td>\n      <td>Marshmello, Kane Brown</td>\n      <td>9851957</td>\n      <td>https://open.spotify.com/track/4hPpVbbakQNv8YT...</td>\n      <td>country</td>\n    </tr>\n    <tr>\n      <th>13</th>\n      <td>Rodeo</td>\n      <td>Lil Nas X, Cardi B</td>\n      <td>9817101</td>\n      <td>https://open.spotify.com/track/4ak7xjvBeBOcJGW...</td>\n      <td>country</td>\n    </tr>\n    <tr>\n      <th>3</th>\n      <td>Unforgettable</td>\n      <td>Thomas Rhett</td>\n      <td>9806474</td>\n      <td>https://open.spotify.com/track/3B54sVLJ402zGa6...</td>\n      <td>country</td>\n    </tr>\n    <tr>\n      <th>9</th>\n      <td>Jingle Bell Rock</td>\n      <td>Bobby Helms</td>\n      <td>9781597</td>\n      <td>https://open.spotify.com/track/7vQbuQcyTflfCIO...</td>\n      <td>country</td>\n    </tr>\n    <tr>\n      <th>20</th>\n      <td>Stay</td>\n      <td>Post Malone</td>\n      <td>9632396</td>\n      <td>https://open.spotify.com/track/4H7WNRErSbONkM0...</td>\n      <td>country</td>\n    </tr>\n    <tr>\n      <th>6</th>\n      <td>Meant to Be (feat. Florida Georgia Line)</td>\n      <td>Bebe Rexha</td>\n      <td>9557969</td>\n      <td>https://open.spotify.com/track/7iDa6hUg2VgEL1o...</td>\n      <td>country</td>\n    </tr>\n    <tr>\n      <th>25</th>\n      <td>You should be sad</td>\n      <td>Halsey</td>\n      <td>9526055</td>\n      <td>https://open.spotify.com/track/7lidXGPXPYLNThI...</td>\n      <td>country</td>\n    </tr>\n    <tr>\n      <th>16</th>\n      <td>Soon You’ll Get Better (feat. The Chicks)</td>\n      <td>Taylor Swift</td>\n      <td>9363501</td>\n      <td>https://open.spotify.com/track/4AYtqFyFbX0Xkc2...</td>\n      <td>country</td>\n    </tr>\n  </tbody>\n</table>\n</div>"
     },
     "metadata": {},
     "execution_count": 229
    }
   ],
   "source": [
    "df_output"
   ]
  },
  {
   "source": [
    "### Creating All Topic Songs With Years "
   ],
   "cell_type": "markdown",
   "metadata": {}
  },
  {
   "cell_type": "code",
   "execution_count": 1,
   "metadata": {},
   "outputs": [],
   "source": [
    "import pandas as pd \n",
    "\n",
    "df1 = pd.read_csv('/Users/daphneyang/Desktop/5YMIDS_SP21/w209/spotify-visualizations/cleaned_data/2017_weekly_all_locations_top200.csv')\n",
    "df1['year'] = '2017'\n",
    "df2 = pd.read_csv('/Users/daphneyang/Desktop/5YMIDS_SP21/w209/spotify-visualizations/cleaned_data/2018_weekly_all_locations_top200.csv')\n",
    "df2['year'] = '2018'\n",
    "df3 = pd.read_csv('/Users/daphneyang/Desktop/5YMIDS_SP21/w209/spotify-visualizations/cleaned_data/2019_weekly_all_locations_top200.csv')\n",
    "df3['year'] = '2019'\n",
    "df4 = pd.read_csv('/Users/daphneyang/Desktop/5YMIDS_SP21/w209/spotify-visualizations/cleaned_data/2020_weekly_all_locations_top200.csv')\n",
    "df4['year'] = '2020'"
   ]
  },
  {
   "cell_type": "code",
   "execution_count": 2,
   "metadata": {},
   "outputs": [
    {
     "output_type": "execute_result",
     "data": {
      "text/plain": [
       "                track               artist  year  streams   country_chart  \\\n",
       "0                   !             O.S.T.R.  2018   63,895          Poland   \n",
       "1                   !          Samey, Gleb  2019   35,871  Czech Republic   \n",
       "2                   !          Samey, Gleb  2019   59,254        Slovakia   \n",
       "3                   !          Samey, Gleb  2020   13,698        Slovakia   \n",
       "4                   !         Trippie Redd  2019  268,954          Canada   \n",
       "...               ...                  ...   ...      ...             ...   \n",
       "240691  항상 (HANGSANG)  j-hope, Supreme Boi  2018   75,326       Indonesia   \n",
       "240692  항상 (HANGSANG)  j-hope, Supreme Boi  2018    2,705       Lithuania   \n",
       "240693  항상 (HANGSANG)  j-hope, Supreme Boi  2018   36,333        Malaysia   \n",
       "240694  항상 (HANGSANG)  j-hope, Supreme Boi  2018   27,905          Taiwan   \n",
       "240695  항상 (HANGSANG)  j-hope, Supreme Boi  2018   10,606        Thailand   \n",
       "\n",
       "                                             spotify_link  \n",
       "0       https://open.spotify.com/track/5dwTUHjTcaMMkCD...  \n",
       "1       https://open.spotify.com/track/1A05ibu1DXGIt0F...  \n",
       "2       https://open.spotify.com/track/1A05ibu1DXGIt0F...  \n",
       "3       https://open.spotify.com/track/1A05ibu1DXGIt0F...  \n",
       "4       https://open.spotify.com/track/1qtHdSxiavDgUPZ...  \n",
       "...                                                   ...  \n",
       "240691  https://open.spotify.com/track/4mYu3kfBCW6qiTD...  \n",
       "240692  https://open.spotify.com/track/4mYu3kfBCW6qiTD...  \n",
       "240693  https://open.spotify.com/track/4mYu3kfBCW6qiTD...  \n",
       "240694  https://open.spotify.com/track/4mYu3kfBCW6qiTD...  \n",
       "240695  https://open.spotify.com/track/4mYu3kfBCW6qiTD...  \n",
       "\n",
       "[240696 rows x 6 columns]"
      ],
      "text/html": "<div>\n<style scoped>\n    .dataframe tbody tr th:only-of-type {\n        vertical-align: middle;\n    }\n\n    .dataframe tbody tr th {\n        vertical-align: top;\n    }\n\n    .dataframe thead th {\n        text-align: right;\n    }\n</style>\n<table border=\"1\" class=\"dataframe\">\n  <thead>\n    <tr style=\"text-align: right;\">\n      <th></th>\n      <th>track</th>\n      <th>artist</th>\n      <th>year</th>\n      <th>streams</th>\n      <th>country_chart</th>\n      <th>spotify_link</th>\n    </tr>\n  </thead>\n  <tbody>\n    <tr>\n      <th>0</th>\n      <td>!</td>\n      <td>O.S.T.R.</td>\n      <td>2018</td>\n      <td>63,895</td>\n      <td>Poland</td>\n      <td>https://open.spotify.com/track/5dwTUHjTcaMMkCD...</td>\n    </tr>\n    <tr>\n      <th>1</th>\n      <td>!</td>\n      <td>Samey, Gleb</td>\n      <td>2019</td>\n      <td>35,871</td>\n      <td>Czech Republic</td>\n      <td>https://open.spotify.com/track/1A05ibu1DXGIt0F...</td>\n    </tr>\n    <tr>\n      <th>2</th>\n      <td>!</td>\n      <td>Samey, Gleb</td>\n      <td>2019</td>\n      <td>59,254</td>\n      <td>Slovakia</td>\n      <td>https://open.spotify.com/track/1A05ibu1DXGIt0F...</td>\n    </tr>\n    <tr>\n      <th>3</th>\n      <td>!</td>\n      <td>Samey, Gleb</td>\n      <td>2020</td>\n      <td>13,698</td>\n      <td>Slovakia</td>\n      <td>https://open.spotify.com/track/1A05ibu1DXGIt0F...</td>\n    </tr>\n    <tr>\n      <th>4</th>\n      <td>!</td>\n      <td>Trippie Redd</td>\n      <td>2019</td>\n      <td>268,954</td>\n      <td>Canada</td>\n      <td>https://open.spotify.com/track/1qtHdSxiavDgUPZ...</td>\n    </tr>\n    <tr>\n      <th>...</th>\n      <td>...</td>\n      <td>...</td>\n      <td>...</td>\n      <td>...</td>\n      <td>...</td>\n      <td>...</td>\n    </tr>\n    <tr>\n      <th>240691</th>\n      <td>항상 (HANGSANG)</td>\n      <td>j-hope, Supreme Boi</td>\n      <td>2018</td>\n      <td>75,326</td>\n      <td>Indonesia</td>\n      <td>https://open.spotify.com/track/4mYu3kfBCW6qiTD...</td>\n    </tr>\n    <tr>\n      <th>240692</th>\n      <td>항상 (HANGSANG)</td>\n      <td>j-hope, Supreme Boi</td>\n      <td>2018</td>\n      <td>2,705</td>\n      <td>Lithuania</td>\n      <td>https://open.spotify.com/track/4mYu3kfBCW6qiTD...</td>\n    </tr>\n    <tr>\n      <th>240693</th>\n      <td>항상 (HANGSANG)</td>\n      <td>j-hope, Supreme Boi</td>\n      <td>2018</td>\n      <td>36,333</td>\n      <td>Malaysia</td>\n      <td>https://open.spotify.com/track/4mYu3kfBCW6qiTD...</td>\n    </tr>\n    <tr>\n      <th>240694</th>\n      <td>항상 (HANGSANG)</td>\n      <td>j-hope, Supreme Boi</td>\n      <td>2018</td>\n      <td>27,905</td>\n      <td>Taiwan</td>\n      <td>https://open.spotify.com/track/4mYu3kfBCW6qiTD...</td>\n    </tr>\n    <tr>\n      <th>240695</th>\n      <td>항상 (HANGSANG)</td>\n      <td>j-hope, Supreme Boi</td>\n      <td>2018</td>\n      <td>10,606</td>\n      <td>Thailand</td>\n      <td>https://open.spotify.com/track/4mYu3kfBCW6qiTD...</td>\n    </tr>\n  </tbody>\n</table>\n<p>240696 rows × 6 columns</p>\n</div>"
     },
     "metadata": {},
     "execution_count": 2
    }
   ],
   "source": [
    "df = pd.concat([df1, df2, df3, df4])\n",
    "\n",
    "all_locations_df_max = df.groupby([\"track\", 'artist','country_chart', 'year']).max().reset_index()[['track','artist',\"year\", 'streams', \"country_chart\",'spotify_link']]\n",
    "\n",
    "all_locations_df_max"
   ]
  },
  {
   "cell_type": "code",
   "execution_count": 10,
   "metadata": {},
   "outputs": [],
   "source": [
    "all_locations_df_max.to_csv(\"cleaned_data/2017_2020_all_locations_max_streams.csv\", index = False)"
   ]
  },
  {
   "cell_type": "code",
   "execution_count": null,
   "metadata": {},
   "outputs": [],
   "source": []
  }
 ]
}